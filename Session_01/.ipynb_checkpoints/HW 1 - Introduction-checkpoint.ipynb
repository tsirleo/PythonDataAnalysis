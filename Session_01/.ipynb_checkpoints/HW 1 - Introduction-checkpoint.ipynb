{
 "cells": [
  {
   "cell_type": "markdown",
   "metadata": {},
   "source": [
    "# HW 1 - Introduction\n",
    "\n",
    "All task will use the same sample code listed below. Just copy and then modify it when required."
   ]
  },
  {
   "cell_type": "code",
   "execution_count": 7,
   "metadata": {
    "collapsed": true,
    "jupyter": {
     "outputs_hidden": true
    }
   },
   "outputs": [],
   "source": [
    "#Sample code written by an imaginary unexperienced user of Python\n",
    "#Function calculates the average number of occurances for each element\n",
    "#in a given sequence\n",
    "def AverageCounter(sequence):\n",
    "    length = len(sequence)\n",
    "    elements = {}\n",
    "    for i in range(1, length):\n",
    "        elements[sequence[i]] = 0.0\n",
    "    for element in elements.keys():\n",
    "        for i in range(1,length):\n",
    "            elements[element] += sequence[i]\n",
    "        elements[element] /= length\n",
    "    print(elements)    \n",
    "    return elements"
   ]
  },
  {
   "cell_type": "markdown",
   "metadata": {},
   "source": [
    "## Task 1. Debugging\n",
    "Use iPython magic commands to debug a sample Python's script (provided above). If necessary use introspection to checkout debug magic commands usage."
   ]
  },
  {
   "cell_type": "markdown",
   "metadata": {
    "jp-MarkdownHeadingCollapsed": true
   },
   "source": [
    "## Task 2. Profiling\n",
    "Profile debugged version of the sample Python's function. Your goal is to accomplish the following:\n",
    "\n",
    "1. Profile function's execution time and detect most computationally intensive parts of the function.\n",
    "2. Suggest improvements of the function's code. Try to make function's execution as fast as possible. Your Python's code should be idiomatic.\n",
    "3. Use profiler to explore how your modifications affect execution time.\n",
    "4. Approximate performance function (sequence length to execution time function) of the initial and optimized functions. Compare the results."
   ]
  },
  {
   "cell_type": "markdown",
   "metadata": {},
   "source": [
    "## Task 3. Running scripts\n",
    "Use iPython features for interaction with operating system to accomplish the following tasks:\n",
    "1. Wrap debugged and improved version of the ```AverageCounter( sequence )``` function, so that it can be run as a Python script (use command line arguments to pass the ```filename``` parameter, which contains the sequence).\n",
    "2. Create a script, which generate a set of testcases (files, which contains randomly generated sequences of floating-point numbers)\n",
    "3. Create a script, which runs the testcases and measures performance of the supplied function on the provided testcase. Th scipt must be as generic as possible."
   ]
  }
 ],
 "metadata": {
  "kernelspec": {
   "display_name": "Python 3 (ipykernel)",
   "language": "python",
   "name": "python3"
  },
  "language_info": {
   "codemirror_mode": {
    "name": "ipython",
    "version": 3
   },
   "file_extension": ".py",
   "mimetype": "text/x-python",
   "name": "python",
   "nbconvert_exporter": "python",
   "pygments_lexer": "ipython3",
   "version": "3.12.2"
  }
 },
 "nbformat": 4,
 "nbformat_minor": 4
}

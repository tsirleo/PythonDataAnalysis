{
 "cells": [
  {
   "cell_type": "markdown",
   "metadata": {},
   "source": [
    "# Session 1 - Introduction\n",
    "\n",
    "## iPython magics\n",
    "We will use iPython magic commands to perform basic tasks related to software development (e.g. introspection, scipt profiling and debuging) and try some of the built-in iPython capabilities for interaction with operating system"
   ]
  },
  {
   "cell_type": "markdown",
   "metadata": {},
   "source": [
    "## Task 1. Introspection\n",
    "Use introspection to checkout iPython magic commands. Try to find answers to the following questions:\n",
    "\n",
    "1. How can we list all iPython magic commands?\n",
    "2. Which magic commands can be used to measure execution of a Python statement\n",
    "3. Is it possible to save a Python script, which is contained in a Jupyter Notebook block to a file?\n",
    "4. How can we change current directory of a Jupyter Notebook?\n",
    "5. Is it possible to run a Python script directly from a Jupyter Notebook block?\n",
    "\n",
    "Some of the given questions have different solutions, try to find as many solutions as you can."
   ]
  },
  {
   "cell_type": "markdown",
   "metadata": {},
   "source": [
    "## Task 2. Debugging\n",
    "We will use iPython magic commands to debug a sample Python's script. Use introspection to checkout debug magic commands, which we can use.\n",
    "\n",
    "Common debugging commands:\n",
    "\n",
    "1. h(elp) - Display command list\n",
    "2. help command - Show documentation for command\n",
    "3. c(ontinue) - Resume program execution\n",
    "4. q(uit) - Exit debugger without executing any more code\n",
    "5. b(reak) -  number Set breakpoint at number in current file\n",
    "6. b path/to/file.py:number - Set breakpoint at line number in specified file\n",
    "7. s(tep) - Step into function call\n",
    "8. n(ext) - Execute current line and advance to next line at current level\n",
    "9. u(p) / d(own) - Move up/down in function call stack\n",
    "10. a(rgs) - Show arguments for current function\n",
    "11. debug statement - Invoke statement statement in new (recursive) debugger\n",
    "12. l(ist) statement - Show current position and context at current level of stack\n",
    "13. w(here) - Print full stack trace with context at current position"
   ]
  },
  {
   "cell_type": "code",
   "execution_count": 11,
   "metadata": {
    "collapsed": false
   },
   "outputs": [],
   "source": [
    "#Sample code wrote by an imaginary unexperienced user of Python.\n",
    "#The function calculates the ratio (number of occurances divided\n",
    "#by the total length sequence length) for each DNA base \n",
    "def CalculateBaseRatios(sequence):\n",
    "    length = len(sequence)\n",
    "    base_ratios = {'A':0.0,'T':0.0,'G':0.0,'C':0.0}\n",
    "    for base in base_ratios.keys():\n",
    "        for i in range(1,length):\n",
    "            if sequence[i] == base_ratios[base]:\n",
    "                base_ratios[base] += sequence[i]\n",
    "        base_ratios[base] /= length\n",
    "    print(base_ratios)    \n",
    "    return base_ratios"
   ]
  },
  {
   "cell_type": "code",
   "execution_count": 8,
   "metadata": {
    "collapsed": false
   },
   "outputs": [],
   "source": [
    "#For this task we will use %debug magic command\n",
    "#Start debugging by uncommenting next line, pressing shift+enter and then the s command\n",
    "#%debug CalculateBaseRatios('AATTGGCC')"
   ]
  },
  {
   "cell_type": "markdown",
   "metadata": {},
   "source": [
    "## Task 3. Profiling\n",
    "Let us dive deeper into Python's scripts profiling.\n",
    "\n",
    "We will profile debugged version of the sample code. Our goal is to answer the following questions:\n",
    "\n",
    "1. Which iPython magic commands can be used for script profiling? And how?\n",
    "2. Which part of the script takes the most computational time?\n",
    "3. What is the computational complexity of the script? How we can measure or evaluate it?\n",
    "4. Can we somehow get an approximation of the function, which relates length of the input sequence to the execution time of the function? \n",
    "5. How can we improve the script to decrease computational time?\n",
    "6. Write and profile an optimized version (in terms of computational time) of the sample function. Use any tools and libraries you deem usefull."
   ]
  },
  {
   "cell_type": "markdown",
   "metadata": {},
   "source": [
    "## Task 4. Running scripts\n",
    "The task is the following:\n",
    "1. Wrap debugged and optimized version of the ```CalculateBaseRatios( sequence )``` function, so that it can be run as a Python script (use command line arguments to pass the ```sequence``` parameter).\n",
    "2. Use ```%%file``` magic command to save the file.\n",
    "3. Use ```%run``` magic command to run the scipt.\n",
    "4. Use ```!``` operator as an alternative way to run the script."
   ]
  },
  {
   "cell_type": "markdown",
   "metadata": {
    "collapsed": true
   },
   "source": [
    "## Task 5. Interacting with the operating system\n",
    "The last task for today. We will check out some of the features of iPython for interaction with operating system. The task is the following:\n",
    "\n",
    "1. Explore bookmarking system. Bookmark folders, which you will be using for the course materials and assignments. Try stacking and unstacking folders.\n",
    "2. Write a scipt, which will automatically upload all your today's work to your git repository."
   ]
  }
 ],
 "metadata": {
  "kernelspec": {
   "display_name": "Python 3",
   "language": "python",
   "name": "python3"
  },
  "language_info": {
   "codemirror_mode": {
    "name": "ipython",
    "version": 3
   },
   "file_extension": ".py",
   "mimetype": "text/x-python",
   "name": "python",
   "nbconvert_exporter": "python",
   "pygments_lexer": "ipython3",
   "version": "3.4.2"
  }
 },
 "nbformat": 4,
 "nbformat_minor": 2
}

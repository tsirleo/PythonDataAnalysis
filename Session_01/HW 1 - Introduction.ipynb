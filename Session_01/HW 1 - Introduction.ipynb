{
 "cells": [
  {
   "cell_type": "markdown",
   "metadata": {},
   "source": [
    "# HW 1 - Introduction\n",
    "\n",
    "All task will use the same sample code listed below. Just copy and then modify it when required."
   ]
  },
  {
   "cell_type": "code",
   "execution_count": 26,
   "metadata": {},
   "outputs": [],
   "source": [
    "#Sample code written by an imaginary unexperienced user of Python\n",
    "#Function calculates the average number of occurances for each element\n",
    "#in a given sequence\n",
    "def AverageCounter(sequence):\n",
    "    length = len(sequence)\n",
    "    elements = {}\n",
    "    for i in range(1, length):\n",
    "        elements[sequence[i]] = 0.0\n",
    "    for element in elements.keys():\n",
    "        for i in range(1,length):\n",
    "            elements[element] += sequence[i]\n",
    "        elements[element] /= length\n",
    "    print(elements)    \n",
    "    return elements"
   ]
  },
  {
   "cell_type": "markdown",
   "metadata": {},
   "source": [
    "## Task 1. Debugging\n",
    "Use iPython magic commands to debug a sample Python's script (provided above). If necessary use introspection to checkout debug magic commands usage."
   ]
  },
  {
   "cell_type": "code",
   "execution_count": 27,
   "metadata": {},
   "outputs": [
    {
     "name": "stdout",
     "output_type": "stream",
     "text": [
      "{2: 1.75, 3: 1.75}\n"
     ]
    },
    {
     "data": {
      "text/plain": [
       "{2: 1.75, 3: 1.75}"
      ]
     },
     "execution_count": 27,
     "metadata": {},
     "output_type": "execute_result"
    }
   ],
   "source": [
    "AverageCounter([1, 2, 3, 2])"
   ]
  },
  {
   "cell_type": "code",
   "execution_count": 24,
   "metadata": {},
   "outputs": [
    {
     "name": "stdout",
     "output_type": "stream",
     "text": [
      "Collecting ipdb\n",
      "  Downloading ipdb-0.13.13-py3-none-any.whl.metadata (14 kB)\n",
      "Requirement already satisfied: ipython>=7.31.1 in /Users/tsirleo/University/python_for_data_analysis_2025/.venv/lib/python3.11/site-packages (from ipdb) (9.0.2)\n",
      "Requirement already satisfied: decorator in /Users/tsirleo/University/python_for_data_analysis_2025/.venv/lib/python3.11/site-packages (from ipdb) (5.2.1)\n",
      "Requirement already satisfied: ipython-pygments-lexers in /Users/tsirleo/University/python_for_data_analysis_2025/.venv/lib/python3.11/site-packages (from ipython>=7.31.1->ipdb) (1.1.1)\n",
      "Requirement already satisfied: jedi>=0.16 in /Users/tsirleo/University/python_for_data_analysis_2025/.venv/lib/python3.11/site-packages (from ipython>=7.31.1->ipdb) (0.19.2)\n",
      "Requirement already satisfied: matplotlib-inline in /Users/tsirleo/University/python_for_data_analysis_2025/.venv/lib/python3.11/site-packages (from ipython>=7.31.1->ipdb) (0.1.7)\n",
      "Requirement already satisfied: pexpect>4.3 in /Users/tsirleo/University/python_for_data_analysis_2025/.venv/lib/python3.11/site-packages (from ipython>=7.31.1->ipdb) (4.9.0)\n",
      "Requirement already satisfied: prompt_toolkit<3.1.0,>=3.0.41 in /Users/tsirleo/University/python_for_data_analysis_2025/.venv/lib/python3.11/site-packages (from ipython>=7.31.1->ipdb) (3.0.50)\n",
      "Requirement already satisfied: pygments>=2.4.0 in /Users/tsirleo/University/python_for_data_analysis_2025/.venv/lib/python3.11/site-packages (from ipython>=7.31.1->ipdb) (2.19.1)\n",
      "Requirement already satisfied: stack_data in /Users/tsirleo/University/python_for_data_analysis_2025/.venv/lib/python3.11/site-packages (from ipython>=7.31.1->ipdb) (0.6.3)\n",
      "Requirement already satisfied: traitlets>=5.13.0 in /Users/tsirleo/University/python_for_data_analysis_2025/.venv/lib/python3.11/site-packages (from ipython>=7.31.1->ipdb) (5.14.3)\n",
      "Requirement already satisfied: typing_extensions>=4.6 in /Users/tsirleo/University/python_for_data_analysis_2025/.venv/lib/python3.11/site-packages (from ipython>=7.31.1->ipdb) (4.12.2)\n",
      "Requirement already satisfied: parso<0.9.0,>=0.8.4 in /Users/tsirleo/University/python_for_data_analysis_2025/.venv/lib/python3.11/site-packages (from jedi>=0.16->ipython>=7.31.1->ipdb) (0.8.4)\n",
      "Requirement already satisfied: ptyprocess>=0.5 in /Users/tsirleo/University/python_for_data_analysis_2025/.venv/lib/python3.11/site-packages (from pexpect>4.3->ipython>=7.31.1->ipdb) (0.7.0)\n",
      "Requirement already satisfied: wcwidth in /Users/tsirleo/University/python_for_data_analysis_2025/.venv/lib/python3.11/site-packages (from prompt_toolkit<3.1.0,>=3.0.41->ipython>=7.31.1->ipdb) (0.2.13)\n",
      "Requirement already satisfied: executing>=1.2.0 in /Users/tsirleo/University/python_for_data_analysis_2025/.venv/lib/python3.11/site-packages (from stack_data->ipython>=7.31.1->ipdb) (2.2.0)\n",
      "Requirement already satisfied: asttokens>=2.1.0 in /Users/tsirleo/University/python_for_data_analysis_2025/.venv/lib/python3.11/site-packages (from stack_data->ipython>=7.31.1->ipdb) (3.0.0)\n",
      "Requirement already satisfied: pure-eval in /Users/tsirleo/University/python_for_data_analysis_2025/.venv/lib/python3.11/site-packages (from stack_data->ipython>=7.31.1->ipdb) (0.2.3)\n",
      "Downloading ipdb-0.13.13-py3-none-any.whl (12 kB)\n",
      "Installing collected packages: ipdb\n",
      "Successfully installed ipdb-0.13.13\n",
      "\n",
      "\u001b[1m[\u001b[0m\u001b[34;49mnotice\u001b[0m\u001b[1;39;49m]\u001b[0m\u001b[39;49m A new release of pip is available: \u001b[0m\u001b[31;49m24.1.2\u001b[0m\u001b[39;49m -> \u001b[0m\u001b[32;49m25.0.1\u001b[0m\n",
      "\u001b[1m[\u001b[0m\u001b[34;49mnotice\u001b[0m\u001b[1;39;49m]\u001b[0m\u001b[39;49m To update, run: \u001b[0m\u001b[32;49mpip install --upgrade pip\u001b[0m\n"
     ]
    }
   ],
   "source": [
    "!pip install ipdb"
   ]
  },
  {
   "cell_type": "code",
   "execution_count": 28,
   "metadata": {},
   "outputs": [],
   "source": [
    "import ipdb\n",
    "\n",
    "# Sample code with a breakpoint added\n",
    "def AverageCounter(sequence):\n",
    "    length = len(sequence)\n",
    "    elements = {}\n",
    "    ipdb.set_trace()  # Debugger starts here\n",
    "    for i in range(1, length):\n",
    "        elements[sequence[i]] = 0.0\n",
    "    for element in elements.keys():\n",
    "        for i in range(1, length):\n",
    "            elements[element] += sequence[i]\n",
    "        elements[element] /= length\n",
    "    print(elements)    \n",
    "    return elements"
   ]
  },
  {
   "cell_type": "code",
   "execution_count": 30,
   "metadata": {},
   "outputs": [
    {
     "name": "stdout",
     "output_type": "stream",
     "text": [
      "> \u001b[32m/var/folders/np/d9mlxf312sbbmy473jc6spfw0000gn/T/ipykernel_1234/2096412682.py\u001b[39m(\u001b[92m8\u001b[39m)\u001b[36mAverageCounter\u001b[39m\u001b[34m()\u001b[39m\n",
      "\u001b[32m      7\u001b[39m     ipdb.set_trace()  \u001b[38;5;66;03m# Debugger starts here\u001b[39;00m\n",
      "\u001b[32m----> 8\u001b[39m     \u001b[38;5;28;01mfor\u001b[39;00m i \u001b[38;5;28;01min\u001b[39;00m range(\u001b[32m1\u001b[39m, length):\n",
      "\u001b[32m      9\u001b[39m         elements[sequence[i]] = \u001b[32m0.0\u001b[39m\n",
      "\n"
     ]
    },
    {
     "name": "stdin",
     "output_type": "stream",
     "text": [
      "ipdb>  p sequence\n"
     ]
    },
    {
     "name": "stdout",
     "output_type": "stream",
     "text": [
      "[1, 2, 3, 2]\n"
     ]
    },
    {
     "name": "stdin",
     "output_type": "stream",
     "text": [
      "ipdb>  p length\n"
     ]
    },
    {
     "name": "stdout",
     "output_type": "stream",
     "text": [
      "4\n"
     ]
    },
    {
     "name": "stdin",
     "output_type": "stream",
     "text": [
      "ipdb>  p i\n"
     ]
    },
    {
     "name": "stdout",
     "output_type": "stream",
     "text": [
      "*** NameError: name 'i' is not defined\n"
     ]
    },
    {
     "name": "stdin",
     "output_type": "stream",
     "text": [
      "ipdb>  n\n"
     ]
    },
    {
     "name": "stdout",
     "output_type": "stream",
     "text": [
      "> \u001b[32m/var/folders/np/d9mlxf312sbbmy473jc6spfw0000gn/T/ipykernel_1234/2096412682.py\u001b[39m(\u001b[92m9\u001b[39m)\u001b[36mAverageCounter\u001b[39m\u001b[34m()\u001b[39m\n",
      "\u001b[32m      8\u001b[39m     \u001b[38;5;28;01mfor\u001b[39;00m i \u001b[38;5;28;01min\u001b[39;00m range(\u001b[32m1\u001b[39m, length):\n",
      "\u001b[32m----> 9\u001b[39m         elements[sequence[i]] = \u001b[32m0.0\u001b[39m\n",
      "\u001b[32m     10\u001b[39m     \u001b[38;5;28;01mfor\u001b[39;00m element \u001b[38;5;28;01min\u001b[39;00m elements.keys():\n",
      "\n"
     ]
    },
    {
     "name": "stdin",
     "output_type": "stream",
     "text": [
      "ipdb>  p i\n"
     ]
    },
    {
     "name": "stdout",
     "output_type": "stream",
     "text": [
      "1\n"
     ]
    },
    {
     "name": "stdin",
     "output_type": "stream",
     "text": [
      "ipdb>  p sequence\n"
     ]
    },
    {
     "name": "stdout",
     "output_type": "stream",
     "text": [
      "[1, 2, 3, 2]\n"
     ]
    },
    {
     "name": "stdin",
     "output_type": "stream",
     "text": [
      "ipdb>  p elements\n"
     ]
    },
    {
     "name": "stdout",
     "output_type": "stream",
     "text": [
      "{}\n"
     ]
    },
    {
     "name": "stdin",
     "output_type": "stream",
     "text": [
      "ipdb>  n\n"
     ]
    },
    {
     "name": "stdout",
     "output_type": "stream",
     "text": [
      "> \u001b[32m/var/folders/np/d9mlxf312sbbmy473jc6spfw0000gn/T/ipykernel_1234/2096412682.py\u001b[39m(\u001b[92m8\u001b[39m)\u001b[36mAverageCounter\u001b[39m\u001b[34m()\u001b[39m\n",
      "\u001b[32m      7\u001b[39m     ipdb.set_trace()  \u001b[38;5;66;03m# Debugger starts here\u001b[39;00m\n",
      "\u001b[32m----> 8\u001b[39m     \u001b[38;5;28;01mfor\u001b[39;00m i \u001b[38;5;28;01min\u001b[39;00m range(\u001b[32m1\u001b[39m, length):\n",
      "\u001b[32m      9\u001b[39m         elements[sequence[i]] = \u001b[32m0.0\u001b[39m\n",
      "\n"
     ]
    },
    {
     "name": "stdin",
     "output_type": "stream",
     "text": [
      "ipdb>  p i\n"
     ]
    },
    {
     "name": "stdout",
     "output_type": "stream",
     "text": [
      "1\n"
     ]
    },
    {
     "name": "stdin",
     "output_type": "stream",
     "text": [
      "ipdb>  p elements\n"
     ]
    },
    {
     "name": "stdout",
     "output_type": "stream",
     "text": [
      "{2: 0.0}\n"
     ]
    },
    {
     "name": "stdin",
     "output_type": "stream",
     "text": [
      "ipdb>  n\n"
     ]
    },
    {
     "name": "stdout",
     "output_type": "stream",
     "text": [
      "> \u001b[32m/var/folders/np/d9mlxf312sbbmy473jc6spfw0000gn/T/ipykernel_1234/2096412682.py\u001b[39m(\u001b[92m9\u001b[39m)\u001b[36mAverageCounter\u001b[39m\u001b[34m()\u001b[39m\n",
      "\u001b[32m      8\u001b[39m     \u001b[38;5;28;01mfor\u001b[39;00m i \u001b[38;5;28;01min\u001b[39;00m range(\u001b[32m1\u001b[39m, length):\n",
      "\u001b[32m----> 9\u001b[39m         elements[sequence[i]] = \u001b[32m0.0\u001b[39m\n",
      "\u001b[32m     10\u001b[39m     \u001b[38;5;28;01mfor\u001b[39;00m element \u001b[38;5;28;01min\u001b[39;00m elements.keys():\n",
      "\n"
     ]
    },
    {
     "name": "stdin",
     "output_type": "stream",
     "text": [
      "ipdb>  p i\n"
     ]
    },
    {
     "name": "stdout",
     "output_type": "stream",
     "text": [
      "2\n"
     ]
    },
    {
     "name": "stdin",
     "output_type": "stream",
     "text": [
      "ipdb>  p elements\n"
     ]
    },
    {
     "name": "stdout",
     "output_type": "stream",
     "text": [
      "{2: 0.0}\n"
     ]
    },
    {
     "name": "stdin",
     "output_type": "stream",
     "text": [
      "ipdb>  n\n"
     ]
    },
    {
     "name": "stdout",
     "output_type": "stream",
     "text": [
      "> \u001b[32m/var/folders/np/d9mlxf312sbbmy473jc6spfw0000gn/T/ipykernel_1234/2096412682.py\u001b[39m(\u001b[92m8\u001b[39m)\u001b[36mAverageCounter\u001b[39m\u001b[34m()\u001b[39m\n",
      "\u001b[32m      7\u001b[39m     ipdb.set_trace()  \u001b[38;5;66;03m# Debugger starts here\u001b[39;00m\n",
      "\u001b[32m----> 8\u001b[39m     \u001b[38;5;28;01mfor\u001b[39;00m i \u001b[38;5;28;01min\u001b[39;00m range(\u001b[32m1\u001b[39m, length):\n",
      "\u001b[32m      9\u001b[39m         elements[sequence[i]] = \u001b[32m0.0\u001b[39m\n",
      "\n"
     ]
    },
    {
     "name": "stdin",
     "output_type": "stream",
     "text": [
      "ipdb>  p i\n"
     ]
    },
    {
     "name": "stdout",
     "output_type": "stream",
     "text": [
      "2\n"
     ]
    },
    {
     "name": "stdin",
     "output_type": "stream",
     "text": [
      "ipdb>  p elements\n"
     ]
    },
    {
     "name": "stdout",
     "output_type": "stream",
     "text": [
      "{2: 0.0, 3: 0.0}\n"
     ]
    },
    {
     "name": "stdin",
     "output_type": "stream",
     "text": [
      "ipdb>  n\n"
     ]
    },
    {
     "name": "stdout",
     "output_type": "stream",
     "text": [
      "> \u001b[32m/var/folders/np/d9mlxf312sbbmy473jc6spfw0000gn/T/ipykernel_1234/2096412682.py\u001b[39m(\u001b[92m9\u001b[39m)\u001b[36mAverageCounter\u001b[39m\u001b[34m()\u001b[39m\n",
      "\u001b[32m      8\u001b[39m     \u001b[38;5;28;01mfor\u001b[39;00m i \u001b[38;5;28;01min\u001b[39;00m range(\u001b[32m1\u001b[39m, length):\n",
      "\u001b[32m----> 9\u001b[39m         elements[sequence[i]] = \u001b[32m0.0\u001b[39m\n",
      "\u001b[32m     10\u001b[39m     \u001b[38;5;28;01mfor\u001b[39;00m element \u001b[38;5;28;01min\u001b[39;00m elements.keys():\n",
      "\n"
     ]
    },
    {
     "name": "stdin",
     "output_type": "stream",
     "text": [
      "ipdb>  p i\n"
     ]
    },
    {
     "name": "stdout",
     "output_type": "stream",
     "text": [
      "3\n"
     ]
    },
    {
     "name": "stdin",
     "output_type": "stream",
     "text": [
      "ipdb>  p elements\n"
     ]
    },
    {
     "name": "stdout",
     "output_type": "stream",
     "text": [
      "{2: 0.0, 3: 0.0}\n"
     ]
    },
    {
     "name": "stdin",
     "output_type": "stream",
     "text": [
      "ipdb>  n\n"
     ]
    },
    {
     "name": "stdout",
     "output_type": "stream",
     "text": [
      "> \u001b[32m/var/folders/np/d9mlxf312sbbmy473jc6spfw0000gn/T/ipykernel_1234/2096412682.py\u001b[39m(\u001b[92m8\u001b[39m)\u001b[36mAverageCounter\u001b[39m\u001b[34m()\u001b[39m\n",
      "\u001b[32m      7\u001b[39m     ipdb.set_trace()  \u001b[38;5;66;03m# Debugger starts here\u001b[39;00m\n",
      "\u001b[32m----> 8\u001b[39m     \u001b[38;5;28;01mfor\u001b[39;00m i \u001b[38;5;28;01min\u001b[39;00m range(\u001b[32m1\u001b[39m, length):\n",
      "\u001b[32m      9\u001b[39m         elements[sequence[i]] = \u001b[32m0.0\u001b[39m\n",
      "\n"
     ]
    },
    {
     "name": "stdin",
     "output_type": "stream",
     "text": [
      "ipdb>  n\n"
     ]
    },
    {
     "name": "stdout",
     "output_type": "stream",
     "text": [
      "> \u001b[32m/var/folders/np/d9mlxf312sbbmy473jc6spfw0000gn/T/ipykernel_1234/2096412682.py\u001b[39m(\u001b[92m10\u001b[39m)\u001b[36mAverageCounter\u001b[39m\u001b[34m()\u001b[39m\n",
      "\u001b[32m      9\u001b[39m         elements[sequence[i]] = \u001b[32m0.0\u001b[39m\n",
      "\u001b[32m---> 10\u001b[39m     \u001b[38;5;28;01mfor\u001b[39;00m element \u001b[38;5;28;01min\u001b[39;00m elements.keys():\n",
      "\u001b[32m     11\u001b[39m         \u001b[38;5;28;01mfor\u001b[39;00m i \u001b[38;5;28;01min\u001b[39;00m range(\u001b[32m1\u001b[39m, length):\n",
      "\n"
     ]
    },
    {
     "name": "stdin",
     "output_type": "stream",
     "text": [
      "ipdb>  p element.keys\n"
     ]
    },
    {
     "name": "stdout",
     "output_type": "stream",
     "text": [
      "*** NameError: name 'element' is not defined\n"
     ]
    },
    {
     "name": "stdin",
     "output_type": "stream",
     "text": [
      "ipdb>  p element.keys()\n"
     ]
    },
    {
     "name": "stdout",
     "output_type": "stream",
     "text": [
      "*** NameError: name 'element' is not defined\n"
     ]
    },
    {
     "name": "stdin",
     "output_type": "stream",
     "text": [
      "ipdb>  p elements.keys()\n"
     ]
    },
    {
     "name": "stdout",
     "output_type": "stream",
     "text": [
      "dict_keys([2, 3])\n"
     ]
    },
    {
     "name": "stdin",
     "output_type": "stream",
     "text": [
      "ipdb>  n\n"
     ]
    },
    {
     "name": "stdout",
     "output_type": "stream",
     "text": [
      "> \u001b[32m/var/folders/np/d9mlxf312sbbmy473jc6spfw0000gn/T/ipykernel_1234/2096412682.py\u001b[39m(\u001b[92m11\u001b[39m)\u001b[36mAverageCounter\u001b[39m\u001b[34m()\u001b[39m\n",
      "\u001b[32m     10\u001b[39m     \u001b[38;5;28;01mfor\u001b[39;00m element \u001b[38;5;28;01min\u001b[39;00m elements.keys():\n",
      "\u001b[32m---> 11\u001b[39m         \u001b[38;5;28;01mfor\u001b[39;00m i \u001b[38;5;28;01min\u001b[39;00m range(\u001b[32m1\u001b[39m, length):\n",
      "\u001b[32m     12\u001b[39m             elements[element] += sequence[i]\n",
      "\n"
     ]
    },
    {
     "name": "stdin",
     "output_type": "stream",
     "text": [
      "ipdb>  c\n"
     ]
    },
    {
     "name": "stdout",
     "output_type": "stream",
     "text": [
      "{2: 1.75, 3: 1.75}\n"
     ]
    },
    {
     "data": {
      "text/plain": [
       "{2: 1.75, 3: 1.75}"
      ]
     },
     "execution_count": 30,
     "metadata": {},
     "output_type": "execute_result"
    }
   ],
   "source": [
    "AverageCounter([1, 2, 3, 2])"
   ]
  },
  {
   "cell_type": "code",
   "execution_count": 31,
   "metadata": {},
   "outputs": [
    {
     "name": "stdout",
     "output_type": "stream",
     "text": [
      "{1: 0.25, 2: 0.5, 3: 0.25}\n"
     ]
    },
    {
     "data": {
      "text/plain": [
       "{1: 0.25, 2: 0.5, 3: 0.25}"
      ]
     },
     "execution_count": 31,
     "metadata": {},
     "output_type": "execute_result"
    }
   ],
   "source": [
    "# Corrected function \n",
    "def AverageCounter(sequence):\n",
    "    length = len(sequence)\n",
    "    elements = {}\n",
    "    for i in range(length):\n",
    "        if sequence[i] not in elements:\n",
    "            elements[sequence[i]] = 0.0\n",
    "    for element in elements.keys():\n",
    "        for i in range(length):\n",
    "            if sequence[i] == element:\n",
    "                elements[element] += 1\n",
    "        elements[element] /= length\n",
    "    print(elements)\n",
    "    return elements\n",
    "\n",
    "AverageCounter([1, 2, 3, 2])"
   ]
  },
  {
   "cell_type": "markdown",
   "metadata": {},
   "source": [
    "## Task 2. Profiling\n",
    "Profile debugged version of the sample Python's function. Your goal is to accomplish the following:\n",
    "\n",
    "1. Profile function's execution time and detect most computationally intensive parts of the function.\n",
    "2. Suggest improvements of the function's code. Try to make function's execution as fast as possible. Your Python's code should be idiomatic.\n",
    "3. Use profiler to explore how your modifications affect execution time.\n",
    "4. Approximate performance function (sequence length to execution time function) of the initial and optimized functions. Compare the results."
   ]
  },
  {
   "cell_type": "code",
   "execution_count": 32,
   "metadata": {},
   "outputs": [
    {
     "name": "stdout",
     "output_type": "stream",
     "text": [
      "{1: 0.25, 2: 0.5, 3: 0.25}\n"
     ]
    }
   ],
   "source": [
    "def AverageCounter(sequence):\n",
    "    length = len(sequence)\n",
    "    elements = {}\n",
    "    for i in range(length):\n",
    "        if sequence[i] not in elements:\n",
    "            elements[sequence[i]] = 0.0\n",
    "    for element in elements.keys():\n",
    "        for i in range(length):\n",
    "            if sequence[i] == element:\n",
    "                elements[element] += 1\n",
    "        elements[element] /= length\n",
    "    print(elements)\n",
    "    return elements\n",
    "\n",
    "result = AverageCounter([1, 2, 3, 2])"
   ]
  },
  {
   "cell_type": "code",
   "execution_count": 35,
   "metadata": {},
   "outputs": [
    {
     "name": "stdout",
     "output_type": "stream",
     "text": [
      "{83: 0.0088, 22: 0.0095, 78: 0.0099, 62: 0.0107, 8: 0.0099, 75: 0.0118, 69: 0.0092, 15: 0.011, 42: 0.01, 37: 0.0095, 84: 0.0083, 35: 0.0104, 16: 0.0096, 98: 0.0102, 18: 0.0095, 95: 0.0097, 97: 0.0101, 25: 0.0096, 90: 0.0103, 76: 0.0112, 23: 0.0091, 47: 0.0082, 70: 0.0103, 87: 0.0079, 71: 0.0109, 3: 0.01, 32: 0.009, 85: 0.0102, 40: 0.0105, 80: 0.0094, 27: 0.0106, 6: 0.0115, 55: 0.0102, 73: 0.011, 24: 0.0101, 26: 0.0091, 10: 0.0089, 54: 0.009, 29: 0.0097, 65: 0.011, 77: 0.0102, 68: 0.0097, 53: 0.0094, 56: 0.0099, 88: 0.0079, 13: 0.0085, 41: 0.0108, 74: 0.0091, 43: 0.009, 1: 0.011, 57: 0.0109, 50: 0.0104, 61: 0.0087, 48: 0.0112, 81: 0.0097, 59: 0.0103, 67: 0.0081, 2: 0.0097, 52: 0.011, 20: 0.0099, 79: 0.0098, 82: 0.0098, 21: 0.0092, 12: 0.0101, 4: 0.0101, 7: 0.0111, 51: 0.0088, 72: 0.0096, 14: 0.0103, 39: 0.0099, 11: 0.0109, 17: 0.0104, 64: 0.0106, 33: 0.0085, 36: 0.0093, 100: 0.0096, 86: 0.0104, 31: 0.0101, 93: 0.009, 94: 0.0095, 91: 0.0127, 46: 0.0094, 44: 0.0106, 89: 0.0102, 28: 0.0107, 66: 0.0101, 92: 0.013, 34: 0.0103, 58: 0.0104, 19: 0.0104, 30: 0.0097, 0: 0.0104, 38: 0.0096, 5: 0.0096, 60: 0.009, 96: 0.0094, 49: 0.0092, 9: 0.0101, 45: 0.0076, 99: 0.0099, 63: 0.0095}\n",
      "         38 function calls in 0.060 seconds\n",
      "\n",
      "   Ordered by: standard name\n",
      "\n",
      "   ncalls  tottime  percall  cumtime  percall filename:lineno(function)\n",
      "        1    0.060    0.060    0.060    0.060 2331238304.py:1(AverageCounter)\n",
      "        1    0.000    0.000    0.060    0.060 <string>:1(<module>)\n",
      "        1    0.000    0.000    0.000    0.000 iostream.py:138(_event_pipe)\n",
      "        1    0.000    0.000    0.000    0.000 iostream.py:259(schedule)\n",
      "        2    0.000    0.000    0.000    0.000 iostream.py:505(parent_header)\n",
      "        2    0.000    0.000    0.000    0.000 iostream.py:550(_is_master_process)\n",
      "        2    0.000    0.000    0.000    0.000 iostream.py:577(_schedule_flush)\n",
      "        2    0.000    0.000    0.000    0.000 iostream.py:655(write)\n",
      "        1    0.000    0.000    0.000    0.000 socket.py:635(send)\n",
      "        1    0.000    0.000    0.000    0.000 threading.py:1125(_wait_for_tstate_lock)\n",
      "        1    0.000    0.000    0.000    0.000 threading.py:1192(is_alive)\n",
      "        1    0.000    0.000    0.000    0.000 threading.py:575(is_set)\n",
      "        1    0.000    0.000    0.000    0.000 tz.py:74(utcoffset)\n",
      "        1    0.000    0.000    0.060    0.060 {built-in method builtins.exec}\n",
      "        2    0.000    0.000    0.000    0.000 {built-in method builtins.isinstance}\n",
      "        3    0.000    0.000    0.000    0.000 {built-in method builtins.len}\n",
      "        1    0.000    0.000    0.000    0.000 {built-in method builtins.print}\n",
      "        2    0.000    0.000    0.000    0.000 {built-in method posix.getpid}\n",
      "        2    0.000    0.000    0.000    0.000 {method '__exit__' of '_thread.RLock' objects}\n",
      "        1    0.000    0.000    0.000    0.000 {method 'acquire' of '_thread.lock' objects}\n",
      "        1    0.000    0.000    0.000    0.000 {method 'append' of 'collections.deque' objects}\n",
      "        1    0.000    0.000    0.000    0.000 {method 'disable' of '_lsprof.Profiler' objects}\n",
      "        2    0.000    0.000    0.000    0.000 {method 'get' of '_contextvars.ContextVar' objects}\n",
      "        2    0.000    0.000    0.000    0.000 {method 'items' of 'dict' objects}\n",
      "        1    0.000    0.000    0.000    0.000 {method 'keys' of 'dict' objects}\n",
      "        2    0.000    0.000    0.000    0.000 {method 'write' of '_io.StringIO' objects}\n",
      "\n",
      "\n"
     ]
    }
   ],
   "source": [
    "import cProfile\n",
    "import random\n",
    "\n",
    "sequence = [random.randint(0, 100) for _ in range(10000)]\n",
    "\n",
    "cProfile.run('AverageCounter(sequence)')"
   ]
  },
  {
   "cell_type": "code",
   "execution_count": 36,
   "metadata": {},
   "outputs": [
    {
     "name": "stdout",
     "output_type": "stream",
     "text": [
      "{1: 0.25, 2: 0.5, 3: 0.25}\n"
     ]
    }
   ],
   "source": [
    "from collections import Counter\n",
    "\n",
    "def AverageCounter_optimized(sequence):\n",
    "    length = len(sequence)\n",
    "    counts = Counter(sequence)\n",
    "    elements = {element: count / length for element, count in counts.items()}\n",
    "    print(elements)\n",
    "    return elements\n",
    "\n",
    "result = AverageCounter_optimized([1, 2, 3, 2])"
   ]
  },
  {
   "cell_type": "code",
   "execution_count": 37,
   "metadata": {},
   "outputs": [
    {
     "name": "stdout",
     "output_type": "stream",
     "text": [
      "{75: 0.011, 57: 0.011, 26: 0.006, 27: 0.017, 22: 0.01, 72: 0.013, 2: 0.008, 20: 0.015, 3: 0.012, 76: 0.01, 63: 0.017, 24: 0.01, 52: 0.01, 23: 0.01, 95: 0.012, 30: 0.012, 54: 0.011, 83: 0.009, 16: 0.008, 59: 0.007, 69: 0.007, 8: 0.014, 19: 0.018, 85: 0.009, 12: 0.005, 48: 0.008, 9: 0.012, 47: 0.013, 5: 0.005, 17: 0.009, 1: 0.011, 87: 0.011, 46: 0.009, 82: 0.013, 90: 0.009, 28: 0.016, 94: 0.009, 37: 0.012, 77: 0.011, 41: 0.011, 65: 0.006, 81: 0.008, 4: 0.006, 21: 0.011, 42: 0.016, 98: 0.008, 78: 0.01, 31: 0.01, 70: 0.012, 11: 0.008, 34: 0.008, 6: 0.01, 60: 0.004, 29: 0.008, 84: 0.014, 10: 0.013, 73: 0.014, 67: 0.006, 62: 0.008, 86: 0.009, 68: 0.01, 33: 0.01, 61: 0.005, 51: 0.009, 18: 0.008, 14: 0.011, 25: 0.013, 88: 0.011, 7: 0.008, 13: 0.01, 71: 0.008, 43: 0.012, 38: 0.011, 97: 0.011, 99: 0.011, 100: 0.014, 80: 0.011, 15: 0.011, 50: 0.008, 35: 0.005, 58: 0.008, 64: 0.01, 36: 0.009, 32: 0.006, 44: 0.008, 0: 0.009, 56: 0.007, 93: 0.009, 49: 0.01, 92: 0.005, 96: 0.012, 53: 0.008, 45: 0.011, 79: 0.012, 39: 0.008, 91: 0.007, 89: 0.011, 40: 0.012, 66: 0.005, 55: 0.01, 74: 0.006}\n",
      "         45 function calls in 0.001 seconds\n",
      "\n",
      "   Ordered by: standard name\n",
      "\n",
      "   ncalls  tottime  percall  cumtime  percall filename:lineno(function)\n",
      "        1    0.000    0.000    0.001    0.001 95828096.py:3(AverageCounter_optimized)\n",
      "        1    0.000    0.000    0.000    0.000 95828096.py:6(<dictcomp>)\n",
      "        1    0.000    0.000    0.000    0.000 <frozen abc>:117(__instancecheck__)\n",
      "        1    0.000    0.000    0.001    0.001 <string>:1(<module>)\n",
      "        1    0.000    0.000    0.000    0.000 __init__.py:587(__init__)\n",
      "        1    0.000    0.000    0.000    0.000 __init__.py:660(update)\n",
      "        1    0.000    0.000    0.000    0.000 iostream.py:138(_event_pipe)\n",
      "        1    0.000    0.000    0.000    0.000 iostream.py:259(schedule)\n",
      "        2    0.000    0.000    0.000    0.000 iostream.py:505(parent_header)\n",
      "        2    0.000    0.000    0.000    0.000 iostream.py:550(_is_master_process)\n",
      "        2    0.000    0.000    0.000    0.000 iostream.py:577(_schedule_flush)\n",
      "        2    0.000    0.000    0.000    0.000 iostream.py:655(write)\n",
      "        1    0.000    0.000    0.000    0.000 socket.py:635(send)\n",
      "        1    0.000    0.000    0.000    0.000 threading.py:1125(_wait_for_tstate_lock)\n",
      "        1    0.000    0.000    0.000    0.000 threading.py:1192(is_alive)\n",
      "        1    0.000    0.000    0.000    0.000 threading.py:575(is_set)\n",
      "        1    0.000    0.000    0.000    0.000 tz.py:74(utcoffset)\n",
      "        1    0.000    0.000    0.000    0.000 {built-in method _abc._abc_instancecheck}\n",
      "        1    0.000    0.000    0.000    0.000 {built-in method _collections._count_elements}\n",
      "        1    0.000    0.000    0.001    0.001 {built-in method builtins.exec}\n",
      "        3    0.000    0.000    0.000    0.000 {built-in method builtins.isinstance}\n",
      "        3    0.000    0.000    0.000    0.000 {built-in method builtins.len}\n",
      "        1    0.000    0.000    0.000    0.000 {built-in method builtins.print}\n",
      "        2    0.000    0.000    0.000    0.000 {built-in method posix.getpid}\n",
      "        2    0.000    0.000    0.000    0.000 {method '__exit__' of '_thread.RLock' objects}\n",
      "        1    0.000    0.000    0.000    0.000 {method 'acquire' of '_thread.lock' objects}\n",
      "        1    0.000    0.000    0.000    0.000 {method 'append' of 'collections.deque' objects}\n",
      "        1    0.000    0.000    0.000    0.000 {method 'disable' of '_lsprof.Profiler' objects}\n",
      "        2    0.000    0.000    0.000    0.000 {method 'get' of '_contextvars.ContextVar' objects}\n",
      "        3    0.000    0.000    0.000    0.000 {method 'items' of 'dict' objects}\n",
      "        2    0.000    0.000    0.000    0.000 {method 'write' of '_io.StringIO' objects}\n",
      "\n",
      "\n"
     ]
    }
   ],
   "source": [
    "sequence = [random.randint(0, 100) for _ in range(1000)]\n",
    "\n",
    "cProfile.run('AverageCounter_optimized(sequence)')"
   ]
  },
  {
   "cell_type": "code",
   "execution_count": 38,
   "metadata": {
    "scrolled": true
   },
   "outputs": [
    {
     "name": "stdout",
     "output_type": "stream",
     "text": [
      "Length 100: Original = 0.0052s, Optimized = 0.0002s\n",
      "Length 500: Original = 0.0544s, Optimized = 0.0003s\n",
      "Length 1000: Original = 0.1222s, Optimized = 0.0006s\n",
      "Length 2000: Original = 0.5047s, Optimized = 0.0009s\n",
      "n=100: Original=0.0052s, Optimized=0.0002s, Ratio=23.51x\n",
      "n=500: Original=0.0544s, Optimized=0.0003s, Ratio=203.49x\n",
      "n=1000: Original=0.1222s, Optimized=0.0006s, Ratio=205.14x\n",
      "n=2000: Original=0.5047s, Optimized=0.0009s, Ratio=593.57x\n"
     ]
    }
   ],
   "source": [
    "import timeit\n",
    "import random\n",
    "from collections import Counter\n",
    "\n",
    "\n",
    "def AverageCounter(sequence):\n",
    "    length = len(sequence)\n",
    "    elements = {}\n",
    "    for i in range(length):\n",
    "        if sequence[i] not in elements:\n",
    "            elements[sequence[i]] = 0.0\n",
    "    for element in elements.keys():\n",
    "        for i in range(length):\n",
    "            if sequence[i] == element:\n",
    "                elements[element] += 1\n",
    "        elements[element] /= length\n",
    "    return elements\n",
    "\n",
    "\n",
    "def AverageCounter_optimized(sequence):\n",
    "    length = len(sequence)\n",
    "    counts = Counter(sequence)\n",
    "    elements = {element: count / length for element, count in counts.items()}\n",
    "    return elements\n",
    "\n",
    "\n",
    "lengths = [100, 500, 1000, 2000]\n",
    "original_times = []\n",
    "optimized_times = []\n",
    "\n",
    "for n in lengths:\n",
    "    sequence = list(range(n))\n",
    "    setup = f'sequence = {sequence}'\n",
    "    \n",
    "    original_time = timeit.timeit('AverageCounter(sequence)', setup=setup, globals=globals(), number=10)\n",
    "    optimized_time = timeit.timeit('AverageCounter_optimized(sequence)', setup=setup, globals=globals(), number=10)\n",
    "    \n",
    "    original_times.append(original_time)\n",
    "    optimized_times.append(optimized_time)\n",
    "    \n",
    "    print(f\"Length {n}: Original = {original_time:.4f}s, Optimized = {optimized_time:.4f}s\")\n",
    "\n",
    "for n, orig, opt in zip(lengths, original_times, optimized_times):\n",
    "    print(f\"n={n}: Original={orig:.4f}s, Optimized={opt:.4f}s, Ratio={orig/opt:.2f}x\")"
   ]
  },
  {
   "cell_type": "markdown",
   "metadata": {},
   "source": [
    "## Task 3. Running scripts\n",
    "Use iPython features for interaction with operating system to accomplish the following tasks:\n",
    "1. Wrap debugged and improved version of the ```AverageCounter( sequence )``` function, so that it can be run as a Python script (use command line arguments to pass the ```filename``` parameter, which contains the sequence).\n",
    "2. Create a script, which generate a set of testcases (files, which contains randomly generated sequences of floating-point numbers)\n",
    "3. Create a script, which runs the testcases and measures performance of the supplied function on the provided testcase. Th scipt must be as generic as possible."
   ]
  },
  {
   "cell_type": "code",
   "execution_count": 50,
   "metadata": {},
   "outputs": [
    {
     "name": "stdout",
     "output_type": "stream",
     "text": [
      "Writing solution/av_counter.py\n"
     ]
    }
   ],
   "source": [
    "%%writefile solution/av_counter.py\n",
    "from collections import Counter\n",
    "import sys\n",
    "\n",
    "def AverageCounter(sequence):\n",
    "    length = len(sequence)\n",
    "    counts = Counter(sequence)\n",
    "    elements = {element: count / length for element, count in counts.items()}\n",
    "    return elements\n",
    "\n",
    "if __name__ == \"__main__\":\n",
    "    if len(sys.argv) != 2:\n",
    "        print(\"Usage: python av_counter.py <filename>\")\n",
    "        sys.exit(1)\n",
    "    filename = sys.argv[1]\n",
    "    with open(filename, 'r') as f:\n",
    "        sequence = [float(line.strip()) for line in f]\n",
    "    result = AverageCounter(sequence)\n",
    "    for element, avg in result.items():\n",
    "        print(f\"{element}: {avg}\")"
   ]
  },
  {
   "cell_type": "code",
   "execution_count": 51,
   "metadata": {},
   "outputs": [
    {
     "name": "stdout",
     "output_type": "stream",
     "text": [
      "Writing solution/generate_tests.py\n"
     ]
    }
   ],
   "source": [
    "%%writefile solution/generate_tests.py\n",
    "import random\n",
    "import sys\n",
    "\n",
    "if len(sys.argv) != 3:\n",
    "    print(\"Usage: python generate_tests.py <num_tests> <sequence_length>\")\n",
    "    sys.exit(1)\n",
    "\n",
    "n = int(sys.argv[1])\n",
    "m = int(sys.argv[2])\n",
    "\n",
    "for i in range(1, n + 1):\n",
    "    filename = f\"solution/testfiles/test{i}.txt\"\n",
    "    with open(filename, 'w') as f:\n",
    "        for _ in range(m):\n",
    "            num = random.randint(0, 100) / 10.0\n",
    "            f.write(f\"{num}\\n\")"
   ]
  },
  {
   "cell_type": "code",
   "execution_count": 52,
   "metadata": {},
   "outputs": [
    {
     "name": "stdout",
     "output_type": "stream",
     "text": [
      "Writing solution/run_tests.py\n"
     ]
    }
   ],
   "source": [
    "%%writefile solution/run_tests.py\n",
    "import time\n",
    "import importlib\n",
    "import sys\n",
    "import glob\n",
    "\n",
    "if len(sys.argv) != 3:\n",
    "    print(\"Usage: python run_tests.py <module_name> <function_name>\")\n",
    "    sys.exit(1)\n",
    "\n",
    "module_name = sys.argv[1]\n",
    "function_name = sys.argv[2]\n",
    "\n",
    "module = importlib.import_module(module_name)\n",
    "func = getattr(module, function_name)\n",
    "\n",
    "test_files = glob.glob(\"solution/testfiles/test*.txt\")\n",
    "\n",
    "for test in test_files:\n",
    "    with open(test, 'r') as f:\n",
    "        sequence = [float(line.strip()) for line in f]\n",
    "    start_time = time.perf_counter()\n",
    "    result = func(sequence)\n",
    "    end_time = time.perf_counter()\n",
    "    execution_time = end_time - start_time\n",
    "    print(f\"Test {test}: {execution_time:.6f} seconds\")"
   ]
  },
  {
   "cell_type": "code",
   "execution_count": 53,
   "metadata": {},
   "outputs": [],
   "source": [
    "!python solution/generate_tests.py 5 1000"
   ]
  },
  {
   "cell_type": "code",
   "execution_count": 54,
   "metadata": {},
   "outputs": [
    {
     "name": "stdout",
     "output_type": "stream",
     "text": [
      "Test solution/testfiles/test4.txt: 0.000112 seconds\n",
      "Test solution/testfiles/test5.txt: 0.000090 seconds\n",
      "Test solution/testfiles/test1.txt: 0.000091 seconds\n",
      "Test solution/testfiles/test2.txt: 0.000085 seconds\n",
      "Test solution/testfiles/test3.txt: 0.000086 seconds\n"
     ]
    }
   ],
   "source": [
    "!python solution/run_tests.py av_counter AverageCounter"
   ]
  },
  {
   "cell_type": "code",
   "execution_count": 55,
   "metadata": {},
   "outputs": [
    {
     "name": "stdout",
     "output_type": "stream",
     "text": [
      "2.6: 0.017\n",
      "4.0: 0.009\n",
      "0.3: 0.016\n",
      "9.3: 0.014\n",
      "8.4: 0.013\n",
      "9.2: 0.007\n",
      "5.9: 0.013\n",
      "2.8: 0.008\n",
      "8.0: 0.012\n",
      "9.0: 0.005\n",
      "0.7: 0.012\n",
      "4.8: 0.01\n",
      "9.8: 0.014\n",
      "5.6: 0.013\n",
      "10.0: 0.009\n",
      "6.2: 0.01\n",
      "7.5: 0.006\n",
      "0.1: 0.011\n",
      "5.4: 0.011\n",
      "7.4: 0.011\n",
      "4.1: 0.012\n",
      "8.8: 0.01\n",
      "2.5: 0.014\n",
      "1.6: 0.012\n",
      "2.1: 0.01\n",
      "8.6: 0.012\n",
      "2.2: 0.011\n",
      "6.7: 0.01\n",
      "3.4: 0.009\n",
      "1.1: 0.006\n",
      "6.5: 0.006\n",
      "6.9: 0.009\n",
      "1.4: 0.01\n",
      "0.8: 0.011\n",
      "0.4: 0.008\n",
      "3.2: 0.01\n",
      "8.5: 0.011\n",
      "1.2: 0.011\n",
      "2.7: 0.015\n",
      "1.8: 0.011\n",
      "4.5: 0.015\n",
      "1.9: 0.01\n",
      "7.0: 0.015\n",
      "2.9: 0.006\n",
      "0.0: 0.013\n",
      "1.7: 0.006\n",
      "9.5: 0.009\n",
      "7.2: 0.005\n",
      "0.9: 0.012\n",
      "3.9: 0.015\n",
      "9.9: 0.011\n",
      "2.4: 0.01\n",
      "1.3: 0.011\n",
      "2.3: 0.017\n",
      "9.4: 0.005\n",
      "3.0: 0.017\n",
      "4.6: 0.011\n",
      "3.3: 0.005\n",
      "4.2: 0.011\n",
      "7.6: 0.008\n",
      "6.0: 0.011\n",
      "8.7: 0.013\n",
      "3.6: 0.006\n",
      "3.1: 0.006\n",
      "5.3: 0.01\n",
      "8.3: 0.009\n",
      "5.0: 0.013\n",
      "9.1: 0.006\n",
      "6.4: 0.008\n",
      "7.1: 0.007\n",
      "8.1: 0.017\n",
      "5.2: 0.011\n",
      "3.7: 0.012\n",
      "4.9: 0.008\n",
      "4.4: 0.011\n",
      "1.0: 0.009\n",
      "0.6: 0.006\n",
      "5.1: 0.007\n",
      "9.7: 0.011\n",
      "8.2: 0.009\n",
      "4.7: 0.01\n",
      "0.5: 0.011\n",
      "9.6: 0.009\n",
      "6.6: 0.009\n",
      "7.8: 0.013\n",
      "7.7: 0.008\n",
      "3.5: 0.009\n",
      "5.5: 0.007\n",
      "4.3: 0.01\n",
      "8.9: 0.008\n",
      "7.9: 0.008\n",
      "6.1: 0.006\n",
      "6.8: 0.005\n",
      "5.8: 0.007\n",
      "5.7: 0.007\n",
      "6.3: 0.005\n",
      "7.3: 0.01\n",
      "3.8: 0.01\n",
      "2.0: 0.005\n",
      "1.5: 0.005\n",
      "0.2: 0.007\n"
     ]
    }
   ],
   "source": [
    "!python solution/av_counter.py solution/testfiles/test1.txt"
   ]
  }
 ],
 "metadata": {
  "kernelspec": {
   "display_name": "Python 3 (ipykernel)",
   "language": "python",
   "name": "python3"
  },
  "language_info": {
   "codemirror_mode": {
    "name": "ipython",
    "version": 3
   },
   "file_extension": ".py",
   "mimetype": "text/x-python",
   "name": "python",
   "nbconvert_exporter": "python",
   "pygments_lexer": "ipython3",
   "version": "3.11.9"
  }
 },
 "nbformat": 4,
 "nbformat_minor": 4
}

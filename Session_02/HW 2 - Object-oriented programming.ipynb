{
 "cells": [
  {
   "cell_type": "markdown",
   "metadata": {},
   "source": [
    "## Task 1. Decorators\n",
    "1. Write a decorator, which checks complience of function's signature to given interface.\n",
    "2. Write a decorator, which decorates function with a provided decorator.\n",
    "3. Write a decorator, which adds benchmarking information (function execution time) to function.\n",
    "4. \n",
    "Write a decorator, which logs function's calls (prints function names and values of functions arguments.)"
   ]
  },
  {
   "cell_type": "code",
   "execution_count": 4,
   "metadata": {},
   "outputs": [
    {
     "name": "stdout",
     "output_type": "stream",
     "text": [
      "Function non_compliant_func does not match the interface interface_func\n"
     ]
    }
   ],
   "source": [
    "# Decorator, which checks complience of function's signature to given interface\n",
    "import typing\n",
    "\n",
    "def check_signature(interface):\n",
    "    interface_hints = typing.get_type_hints(interface)\n",
    "    \n",
    "    def decorator(func):\n",
    "        func_hints = typing.get_type_hints(func)\n",
    "        if func_hints != interface_hints:\n",
    "            raise TypeError(f\"Function {func.__name__} does not match the interface {interface.__name__}\")\n",
    "        return func\n",
    "    \n",
    "    return decorator\n",
    "\n",
    "\n",
    "def interface_func(a: int, b: str) -> bool:\n",
    "    pass\n",
    "\n",
    "\n",
    "@check_signature(interface_func)\n",
    "def compliant_func(a: int, b: str) -> bool:\n",
    "    return True\n",
    "\n",
    "\n",
    "try:\n",
    "    @check_signature(interface_func)\n",
    "    def non_compliant_func(a: str, b: int) -> bool:\n",
    "        pass\n",
    "except TypeError as e:\n",
    "    print(e)"
   ]
  },
  {
   "cell_type": "code",
   "execution_count": 22,
   "metadata": {},
   "outputs": [
    {
     "name": "stdout",
     "output_type": "stream",
     "text": [
      "Before call:\n",
      "Alice\n",
      "After call:\n",
      "Bob\n"
     ]
    }
   ],
   "source": [
    "# Decorator, which decorates function with a provided decorator\n",
    "def apply_decorator(provided_decorator):\n",
    "    def decorator(func):\n",
    "        return provided_decorator(func)\n",
    "    \n",
    "    return decorator\n",
    "\n",
    "\n",
    "def simple_decorator(func):\n",
    "    def wrapper(*args, **kwargs):\n",
    "        print(\"Before call:\")\n",
    "        result = func(*args, **kwargs)\n",
    "        print(\"After call:\")\n",
    "        return result\n",
    "    return wrapper\n",
    "\n",
    "\n",
    "@apply_decorator(simple_decorator)\n",
    "def say_name(name):\n",
    "    print(f\"{name}\")\n",
    "    return \"Bob\"\n",
    "\n",
    "\n",
    "print(f\"{say_name('Alice')}\")"
   ]
  },
  {
   "cell_type": "code",
   "execution_count": 18,
   "metadata": {},
   "outputs": [
    {
     "name": "stdout",
     "output_type": "stream",
     "text": [
      "Function slow_mult executed in 2.005097 seconds\n",
      "Result: 12\n"
     ]
    }
   ],
   "source": [
    "# Decorator, which adds benchmarking information (function execution time) to function\n",
    "import time\n",
    "\n",
    "def benchmark(func):\n",
    "    def wrapper(*args, **kwargs):\n",
    "        start_time = time.time()\n",
    "        result = func(*args, **kwargs)\n",
    "        end_time = time.time()\n",
    "        execution_time = end_time - start_time\n",
    "        print(f\"Function {func.__name__} executed in {execution_time:.6f} seconds\")\n",
    "        return result\n",
    "    return wrapper\n",
    "\n",
    "\n",
    "@benchmark\n",
    "def slow_mult(a, b):\n",
    "    time.sleep(2)\n",
    "    return a * b\n",
    "\n",
    "\n",
    "print(f\"Result: {slow_mult(3, 4)}\")"
   ]
  },
  {
   "cell_type": "code",
   "execution_count": 23,
   "metadata": {},
   "outputs": [
    {
     "name": "stdout",
     "output_type": "stream",
     "text": [
      "Calling greet with arguments: name='World', greeting='Hello'\n",
      "Hello, World!\n",
      "Calling greet with arguments: name='Alice', greeting='Hello'\n",
      "Hello, Alice!\n",
      "Calling greet with arguments: name='Bob', greeting='Hi'\n",
      "Hi, Bob!\n"
     ]
    }
   ],
   "source": [
    "# Decorator, which logs function's calls (prints function names and values of functions arguments)\n",
    "import inspect\n",
    "\n",
    "def log_calls(func):\n",
    "    def wrapper(*args, **kwargs):\n",
    "        sig = inspect.signature(func)\n",
    "        bound_args = sig.bind(*args, **kwargs)\n",
    "        bound_args.apply_defaults()  # Include default values\n",
    "        arg_str = \", \".join(f\"{k}={repr(v)}\" for k, v in bound_args.arguments.items())\n",
    "        print(f\"Calling {func.__name__} with arguments: {arg_str}\")\n",
    "        result = func(*args, **kwargs)\n",
    "        return result\n",
    "    return wrapper\n",
    "\n",
    "\n",
    "@log_calls\n",
    "def greet(name=\"World\", greeting=\"Hello\"):\n",
    "    return f\"{greeting}, {name}!\"\n",
    "\n",
    "\n",
    "print(greet())\n",
    "print(greet(\"Alice\"))\n",
    "print(greet(\"Bob\", greeting=\"Hi\"))"
   ]
  },
  {
   "cell_type": "markdown",
   "metadata": {},
   "source": [
    "### Task 2. Configurable pipeline of integer data transformations\n",
    "Assume we have a list of integers, which represents some abstract collected data. Create a class for creating configurable pipelines of transformations for the provided list of integers. The following transformations should be supported:\n",
    "1. Convertion to ratios (every element is divided by the sum of all list elements)\n",
    "2. Removal of the list mean value\n",
    "3. Filtering of negative or zero elements"
   ]
  },
  {
   "cell_type": "code",
   "execution_count": 24,
   "metadata": {},
   "outputs": [],
   "source": [
    "def to_ratios(data):\n",
    "    if not data:\n",
    "        return []\n",
    "    total = sum(data)\n",
    "    if total == 0:\n",
    "        return data\n",
    "    return [x / total for x in data]\n",
    "\n",
    "\n",
    "def substract_mean(data):\n",
    "    if not data:\n",
    "        return []\n",
    "    mean = sum(data) / len(data)\n",
    "    return [x - mean for x in data]\n",
    "\n",
    "\n",
    "def filter_non_positive(data):\n",
    "    return [x for x in data if x > 0]\n",
    "\n",
    "\n",
    "class Pipeline:\n",
    "    TRANSFORMATIONS = {\n",
    "        'to_ratios': to_ratios,\n",
    "        'substract_mean': substract_mean,\n",
    "        'filter_non_positive': filter_non_positive\n",
    "    }\n",
    "    \n",
    "    def __init__(self):\n",
    "        self.transformations = []\n",
    "    \n",
    "    def add_transformation(self, transformation_name):\n",
    "        if transformation_name not in self.TRANSFORMATIONS:\n",
    "            raise ValueError(f\"Unknown transformation: {transformation_name}\")\n",
    "        self.transformations.append(transformation_name)\n",
    "    \n",
    "    def execute(self, data):\n",
    "        result = data\n",
    "        for transform_name in self.transformations:\n",
    "            transform_func = self.TRANSFORMATIONS[transform_name]\n",
    "            result = transform_func(result)\n",
    "        return result"
   ]
  },
  {
   "cell_type": "code",
   "execution_count": 25,
   "metadata": {},
   "outputs": [
    {
     "name": "stdout",
     "output_type": "stream",
     "text": [
      "Original data: [1, -2, 3, 0]\n",
      "Transformed data: [0.16666666666666666, 0.8333333333333334]\n"
     ]
    }
   ],
   "source": [
    "data = [1, -2, 3, 0]\n",
    "\n",
    "pipeline = Pipeline()\n",
    "\n",
    "pipeline.add_transformation('substract_mean')\n",
    "pipeline.add_transformation('filter_non_positive')\n",
    "pipeline.add_transformation('to_ratios')\n",
    "\n",
    "result = pipeline.execute(data)\n",
    "\n",
    "print(\"Original data:\", data)\n",
    "print(\"Transformed data:\", result)"
   ]
  },
  {
   "cell_type": "markdown",
   "metadata": {},
   "source": [
    "## Task 3. Text preprocessing\n",
    "Assume we have an arbitrary text and plan to prepare it for a further data analysis. The text might contain html tags, emails, latex commands. The task is to create a configurable text preprocessor, which allows to remove certain elements from provided text. The following filters should be supported:\n",
    "1. Removal of punctuation symbols from a given list \n",
    "2. Removal of stop words from a given list\n",
    "3. Removal of HTML tags\n",
    "4. Removal of e-mails"
   ]
  },
  {
   "cell_type": "code",
   "execution_count": 38,
   "metadata": {},
   "outputs": [
    {
     "name": "stdout",
     "output_type": "stream",
     "text": [
      "This example email Check some bold text for more info Weather so nice today\n"
     ]
    }
   ],
   "source": [
    "import re\n",
    "import string\n",
    "from bs4 import BeautifulSoup\n",
    "from typing import List\n",
    "\n",
    "\n",
    "class TextPreprocessor:\n",
    "    def __init__(self, remove_punctuations: List[str] = None, stop_words: List[str] = None):\n",
    "        self.remove_punctuations = remove_punctuations if remove_punctuations else []\n",
    "        self.stop_words = set(stop_words) if stop_words else set()\n",
    "\n",
    "    def remove_punctuation(self, text: str) -> str:\n",
    "        if self.remove_punctuations:\n",
    "            trans_table = str.maketrans('', '', ''.join(self.remove_punctuations))\n",
    "            text = text.translate(trans_table)\n",
    "        return text\n",
    "\n",
    "    def remove_stopwords(self, text: str) -> str:\n",
    "        words = text.split()\n",
    "        filtered_words = [word for word in words if word.lower() not in self.stop_words]\n",
    "        return ' '.join(filtered_words)\n",
    "\n",
    "    def remove_html_tags(self, text: str) -> str:\n",
    "        return BeautifulSoup(text, 'html.parser').get_text()\n",
    "\n",
    "    def remove_emails(self, text: str) -> str:\n",
    "        return re.sub(r'\\b[A-Za-z0-9._%+-]+@[A-Za-z0-9.-]+\\.[A-Z|a-z]{2,}\\b', '', text)\n",
    "\n",
    "    def preprocess(self, text: str, remove_punc: bool = True, remove_stop: bool = True, remove_html: bool = True, remove_email: bool = True) -> str:\n",
    "        if remove_html:\n",
    "            text = self.remove_html_tags(text)\n",
    "        if remove_email:\n",
    "            text = self.remove_emails(text)\n",
    "        if remove_punc:\n",
    "            text = self.remove_punctuation(text)\n",
    "        if remove_stop:\n",
    "            text = self.remove_stopwords(text)\n",
    "        return text\n",
    "\n",
    "\n",
    "text = \"\"\"\n",
    "<html><body>This is an example email: test@example.com. Check <b>some bold text</b> for more info.</body></html>\n",
    "Weather is not so nice today.\n",
    "\"\"\"\n",
    "\n",
    "punctuations_to_remove = list(string.punctuation)\n",
    "stop_words_list = [\"is\", \"an\", \"also\", \"at\", \"not\"]\n",
    "\n",
    "preprocessor = TextPreprocessor(remove_punctuations=punctuations_to_remove, stop_words=stop_words_list)\n",
    "\n",
    "cleaned_text = preprocessor.preprocess(text)\n",
    "print(cleaned_text)"
   ]
  }
 ],
 "metadata": {
  "kernelspec": {
   "display_name": "Python 3 (ipykernel)",
   "language": "python",
   "name": "python3"
  },
  "language_info": {
   "codemirror_mode": {
    "name": "ipython",
    "version": 3
   },
   "file_extension": ".py",
   "mimetype": "text/x-python",
   "name": "python",
   "nbconvert_exporter": "python",
   "pygments_lexer": "ipython3",
   "version": "3.11.9"
  }
 },
 "nbformat": 4,
 "nbformat_minor": 4
}

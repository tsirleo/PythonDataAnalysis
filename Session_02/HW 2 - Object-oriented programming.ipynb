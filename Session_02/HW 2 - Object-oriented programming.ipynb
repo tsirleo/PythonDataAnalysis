{
 "cells": [
  {
   "cell_type": "markdown",
   "metadata": {},
   "source": [
    "## Task 1. Decorators\n",
    "1. Write a decorator, which checks complience of function's signature to given interface.\n",
    "2. Write a decorator, which decorates function with a provided decorator.\n",
    "3. Write a decorator, which adds benchmarking information (function execution time) to function.\n",
    "4. \n",
    "Write a decorator, which logs function's calls (prints function names and values of functions arguments.)"
   ]
  },
  {
   "cell_type": "markdown",
   "metadata": {},
   "source": [
    "### Task 2. Configurable pipeline of integer data transformations\n",
    "Assume we have a list of integers, which represents some abstract collected data. Create a class for creating configurable pipelines of transformations for the provided list of integers. The following transformations should be supported:\n",
    "1. Convertion to ratios (every element is divided by the sum of all list elements)\n",
    "2. Removal of the list mean value\n",
    "3. Filtering of negative or zero elements"
   ]
  },
  {
   "cell_type": "markdown",
   "metadata": {},
   "source": [
    "## Task 3. Text preprocessing\n",
    "Assume we have an arbitrary text and plan to prepare it for a further data analysis. The text might contain html tags, emails, latex commands. The task is to create a configurable text preprocessor, which allows to remove certain elements from provided text. The following filters should be supported:\n",
    "1. Removal of punctuation symbols from a given list \n",
    "2. Removal of stop words from a given list\n",
    "3. Removal of HTML tags\n",
    "4. Removal of e-mails"
   ]
  },
  {
   "cell_type": "code",
   "execution_count": null,
   "metadata": {},
   "outputs": [],
   "source": []
  }
 ],
 "metadata": {
  "kernelspec": {
   "display_name": "Python 3 (ipykernel)",
   "language": "python",
   "name": "python3"
  },
  "language_info": {
   "codemirror_mode": {
    "name": "ipython",
    "version": 3
   },
   "file_extension": ".py",
   "mimetype": "text/x-python",
   "name": "python",
   "nbconvert_exporter": "python",
   "pygments_lexer": "ipython3",
   "version": "3.12.2"
  }
 },
 "nbformat": 4,
 "nbformat_minor": 4
}

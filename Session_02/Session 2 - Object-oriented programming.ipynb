{
 "cells": [
  {
   "cell_type": "markdown",
   "metadata": {},
   "source": [
    "# Session 2 - Object-oriented programming"
   ]
  },
  {
   "cell_type": "markdown",
   "metadata": {},
   "source": [
    "## Examples of design patterns\n",
    "We will only cover a limited number of design patterns. An exaustive set of examples can be found in the following git repositories:\n",
    "1. https://github.com/faif/python-patterns\n",
    "2. https://github.com/gennad/Design-Patterns-in-Python"
   ]
  },
  {
   "cell_type": "markdown",
   "metadata": {},
   "source": [
    "## Structural patterns"
   ]
  },
  {
   "cell_type": "markdown",
   "metadata": {},
   "source": [
    "### Decorators"
   ]
  },
  {
   "cell_type": "code",
   "execution_count": 1,
   "metadata": {
    "collapsed": true,
    "jupyter": {
     "outputs_hidden": true
    }
   },
   "outputs": [],
   "source": [
    "def SampleDecorator( decorated_function ): #function object is passed to the decorator function\n",
    "    #To decorate the function wrapper function is defined\n",
    "    def Wrapper():\n",
    "        print('Statements executed before decorated_function is called')\n",
    "        decorated_function()\n",
    "        print('Statements executed after decorated_function is called')\n",
    "    return Wrapper    "
   ]
  },
  {
   "cell_type": "code",
   "execution_count": 4,
   "metadata": {
    "collapsed": false,
    "jupyter": {
     "outputs_hidden": false
    }
   },
   "outputs": [
    {
     "name": "stdout",
     "output_type": "stream",
     "text": [
      "Simple function\n"
     ]
    }
   ],
   "source": [
    "def SimpleFunction():\n",
    "    print('Simple function')\n",
    "SimpleFunction()"
   ]
  },
  {
   "cell_type": "code",
   "execution_count": 5,
   "metadata": {
    "collapsed": false,
    "jupyter": {
     "outputs_hidden": false
    }
   },
   "outputs": [
    {
     "name": "stdout",
     "output_type": "stream",
     "text": [
      "Statements executed before decorated_function is called\n",
      "Simple function\n",
      "Statements executed after decorated_function is called\n"
     ]
    }
   ],
   "source": [
    "DecoratedFunction = SampleDecorator( SimpleFunction )\n",
    "DecoratedFunction()"
   ]
  },
  {
   "cell_type": "code",
   "execution_count": 6,
   "metadata": {
    "collapsed": false,
    "jupyter": {
     "outputs_hidden": false
    }
   },
   "outputs": [
    {
     "name": "stdout",
     "output_type": "stream",
     "text": [
      "Statements executed before decorated_function is called\n",
      "Another simple function\n",
      "Statements executed after decorated_function is called\n"
     ]
    }
   ],
   "source": [
    "@SampleDecorator\n",
    "def AnotherSimpleFunction():\n",
    "    print('Another simple function')\n",
    "\n",
    "AnotherSimpleFunction()"
   ]
  },
  {
   "cell_type": "code",
   "execution_count": 8,
   "metadata": {
    "collapsed": true,
    "jupyter": {
     "outputs_hidden": true
    }
   },
   "outputs": [],
   "source": [
    "def ArgumentsPassingDecorator( decorated_function ): #function object is passed to the decorator function\n",
    "    #To decorate the function wrapper function is defined\n",
    "    def Wrapper(*args,**kwargs):\n",
    "        print('Wrapper recieved following arguments')\n",
    "        print(args)\n",
    "        print(kwargs)\n",
    "        print('Statements executed before decorated_function is called')\n",
    "        decorated_function(*args, **kwargs)\n",
    "        print('Statements executed after decorated_function is called')\n",
    "    return Wrapper"
   ]
  },
  {
   "cell_type": "code",
   "execution_count": 11,
   "metadata": {
    "collapsed": false,
    "jupyter": {
     "outputs_hidden": false
    }
   },
   "outputs": [
    {
     "name": "stdout",
     "output_type": "stream",
     "text": [
      "Wrapper recieved following arguments\n",
      "(1, 2)\n",
      "{'c': 3}\n",
      "Statements executed before decorated_function is called\n",
      "Simple function recieved following arguments:  1 2 3\n",
      "Statements executed after decorated_function is called\n"
     ]
    }
   ],
   "source": [
    "@ArgumentsPassingDecorator\n",
    "def SimpleFunctionWithArguments(a,b,c):\n",
    "    print('Simple function recieved following arguments: ',a,b,c)\n",
    "\n",
    "SimpleFunctionWithArguments(1,2,c = 3)"
   ]
  },
  {
   "cell_type": "code",
   "execution_count": 12,
   "metadata": {
    "collapsed": true,
    "jupyter": {
     "outputs_hidden": true
    }
   },
   "outputs": [],
   "source": [
    "def DecoratorMaker():\n",
    "    print('New decorator is going to be created')\n",
    "    def Decorator( decorated_function ):\n",
    "        print(decorated_function, 'is decorated with Decorator')\n",
    "        def Wrapper(*args, **kwargs):\n",
    "            print('Statements executed before decorated_function is called')\n",
    "            result = decorated_function(*args, **kwargs)\n",
    "            print('Statements executed after decorated_function is called')\n",
    "            return result #Wrapper returns results of the decorated_function call\n",
    "        return Wrapper\n",
    "    return Decorator"
   ]
  },
  {
   "cell_type": "code",
   "execution_count": 16,
   "metadata": {
    "collapsed": false,
    "jupyter": {
     "outputs_hidden": false
    }
   },
   "outputs": [
    {
     "name": "stdout",
     "output_type": "stream",
     "text": [
      "New decorator is going to be created\n",
      "<function DecoratedFunction at 0x048DB108> is decorated with Decorator\n",
      "\n",
      "Statements executed before decorated_function is called\n",
      "Function to be decorated\n",
      "Statements executed after decorated_function is called\n"
     ]
    }
   ],
   "source": [
    "@DecoratorMaker()\n",
    "def DecoratedFunction():\n",
    "    print('Function to be decorated')\n",
    "print('')\n",
    "DecoratedFunction()"
   ]
  },
  {
   "cell_type": "code",
   "execution_count": 17,
   "metadata": {
    "collapsed": true,
    "jupyter": {
     "outputs_hidden": true
    }
   },
   "outputs": [],
   "source": [
    "def DecoratorMakerWithArguments( decorator_argument ):\n",
    "    print('New decorator is going to be created')\n",
    "    def Decorator( decorated_function ):\n",
    "        print(decorated_function, 'is decorated with Decorator, which recieved argument: ',decorator_argument)\n",
    "        def Wrapper(*args, **kwargs):\n",
    "            print('Statements executed before decorated_function is called')\n",
    "            result = decorated_function(*args, **kwargs)\n",
    "            print('Statements executed after decorated_function is called')\n",
    "            return result #Wrapper returns results of the decorated_function call\n",
    "        return Wrapper\n",
    "    return Decorator"
   ]
  },
  {
   "cell_type": "code",
   "execution_count": 19,
   "metadata": {
    "collapsed": false,
    "jupyter": {
     "outputs_hidden": false
    }
   },
   "outputs": [
    {
     "name": "stdout",
     "output_type": "stream",
     "text": [
      "New decorator is going to be created\n",
      "<function DecoratedFunction at 0x048C8780> is decorated with Decorator, which recieved argument:  test\n",
      "\n",
      "Statements executed before decorated_function is called\n",
      "Function to be decorated\n",
      "Statements executed after decorated_function is called\n"
     ]
    }
   ],
   "source": [
    "@DecoratorMakerWithArguments('test')\n",
    "def DecoratedFunction():\n",
    "    print('Function to be decorated')\n",
    "print('')\n",
    "DecoratedFunction()"
   ]
  },
  {
   "cell_type": "markdown",
   "metadata": {},
   "source": [
    "## Behavioral patterns"
   ]
  },
  {
   "cell_type": "markdown",
   "metadata": {},
   "source": [
    "### Chain of responsibility\n",
    "Chain of Responsibility might be thought of as a dynamic generalization of recursion using objects, which implements different handlers for processing a specific task. You make a call, and each object in a linked sequence tries to satisfy the call. The process ends when one of the objects is successful or the chain ends. Chain of responsibility can also be used to implement a pipeline, when every handler in the chain is applied (if necessary) successively. Possible usecases for data analysis:\n",
    "1. Pipeline of data transformations\n",
    "2. Ensemble of machine learning algorithms, which tries to solve a given problem\n",
    "3. Ensemble of regression models of different cardinality\n",
    "3. Expert systems, which implement different solution strategies for a given task"
   ]
  },
  {
   "cell_type": "code",
   "execution_count": 12,
   "metadata": {
    "collapsed": false,
    "jupyter": {
     "outputs_hidden": false
    }
   },
   "outputs": [
    {
     "name": "stdout",
     "output_type": "stream",
     "text": [
      "Trying first handle\n",
      "Trying second handle\n",
      "Trying third handle\n",
      "Chain execution stopped\n"
     ]
    }
   ],
   "source": [
    "# Sample chain of responsibility\n",
    "class ChainLink:\n",
    "    def __init__(self, chain, strategy):\n",
    "        self.strategy = strategy\n",
    "        self.chain = chain\n",
    "        self.chain.append(self)\n",
    "\n",
    "    def next(self):\n",
    "        location = self.chain.index(self) # where this link is in the chain\n",
    "        if not self.end():\n",
    "            return self.chain[location + 1]\n",
    "\n",
    "    def end(self):\n",
    "        return (self.chain.index(self) + 1 >=\n",
    "                len(self.chain))\n",
    "\n",
    "    def __call__(self, request):\n",
    "        r = self.strategy(request)\n",
    "        if r or self.end(): return \"Chain execution stopped\"\n",
    "        return self.next()(request)\n",
    "\n",
    "class FirstHandle:\n",
    "    def __call__(self, request):\n",
    "        print('Trying first handle') \n",
    "        return 1 == request # Good practice to use a result object, which can be analysed by chain object\n",
    "    \n",
    "class SecondHandle:\n",
    "    def __call__(self, request):\n",
    "        print('Trying second handle')\n",
    "        return 2 == request\n",
    "    \n",
    "class ThirdHandle:\n",
    "    def __call__(self, request):\n",
    "        print('Trying third handle')\n",
    "        return 3 == request\n",
    "\n",
    "chain = []\n",
    "ChainLink(chain, FirstHandle())\n",
    "ChainLink(chain, SecondHandle())\n",
    "ChainLink(chain, ThirdHandle())\n",
    "\n",
    "request = 3\n",
    "print(chain[0](request))"
   ]
  },
  {
   "cell_type": "markdown",
   "metadata": {
    "collapsed": true,
    "jupyter": {
     "outputs_hidden": true
    }
   },
   "source": [
    "## Creational patterns"
   ]
  },
  {
   "cell_type": "markdown",
   "metadata": {
    "collapsed": true,
    "jupyter": {
     "outputs_hidden": true
    }
   },
   "source": [
    "### Singleton"
   ]
  },
  {
   "cell_type": "code",
   "execution_count": 23,
   "metadata": {
    "collapsed": false,
    "jupyter": {
     "outputs_hidden": false
    }
   },
   "outputs": [
    {
     "name": "stdout",
     "output_type": "stream",
     "text": [
      "12\n",
      "63833136 63833136\n"
     ]
    }
   ],
   "source": [
    "# Real Singleton instance\n",
    "class Singleton(object):\n",
    "    def __new__(type):\n",
    "        if not '_the_instance' in type.__dict__:\n",
    "            type._the_instance = object.__new__(type)\n",
    "        return type._the_instance\n",
    "\n",
    "a = Singleton()\n",
    "a.toto = 12\n",
    "\n",
    "b = Singleton()\n",
    "print( b.toto )\n",
    "print( id(a), id(b) )  # The same !!"
   ]
  },
  {
   "cell_type": "markdown",
   "metadata": {},
   "source": [
    "Note: you can check other possible ways to implement singleton in Python via second link in the beginning of the Notebook"
   ]
  }
 ],
 "metadata": {
  "kernelspec": {
   "display_name": "Python 3 (ipykernel)",
   "language": "python",
   "name": "python3"
  },
  "language_info": {
   "codemirror_mode": {
    "name": "ipython",
    "version": 3
   },
   "file_extension": ".py",
   "mimetype": "text/x-python",
   "name": "python",
   "nbconvert_exporter": "python",
   "pygments_lexer": "ipython3",
   "version": "3.12.2"
  }
 },
 "nbformat": 4,
 "nbformat_minor": 4
}

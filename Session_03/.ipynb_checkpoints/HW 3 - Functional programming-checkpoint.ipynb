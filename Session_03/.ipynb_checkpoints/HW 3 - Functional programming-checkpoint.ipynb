{
 "cells": [
  {
   "cell_type": "markdown",
   "metadata": {},
   "source": [
    "# HW 3 - Functional programming\n",
    "\n",
    "In this homework functional programming tools should be used. For example, comprehensions, functional programming functions, such as map or fileter, tools, such as generators, and libraries, such as itertools."
   ]
  },
  {
   "cell_type": "markdown",
   "metadata": {},
   "source": [
    "## Task 1\n",
    "Use functional tools to implement discrete convolution of two lists of numerical values (e.g. $\\sum_{i= 0}^n a_i \\cdot b_{n-i}$)"
   ]
  },
  {
   "cell_type": "markdown",
   "metadata": {},
   "source": [
    "## Task 2\n",
    "Use functional tools to implement function, which calculates multiplication of two matrices"
   ]
  },
  {
   "cell_type": "markdown",
   "metadata": {},
   "source": [
    "## Task 3\n",
    "Write a generator for the Cauchy product of two random number generators (https://en.wikipedia.org/wiki/Cauchy_product)"
   ]
  },
  {
   "cell_type": "markdown",
   "metadata": {},
   "source": [
    "## Task 4\n",
    "Write generator function, which yields a random sequence imitating a random walk. For example, it can resemble a stock exchange or currency exchange time series data."
   ]
  },
  {
   "cell_type": "markdown",
   "metadata": {},
   "source": [
    "## Task 5\n",
    "\n",
    "Given three different compounds $A,B,C$, total volume $N$ and step $k$. Write generator function, which yields all possible distributions of $A,B,C$ volumes with given step (in any order). For example, N = 100, k = 1. The outputs of the generator should be:\n",
    "1. [0,0,100]\n",
    "2. [0,1,99]\n",
    "3. [0,2,98]\n",
    "4. ...  "
   ]
  }
 ],
 "metadata": {
  "kernelspec": {
   "display_name": "Python 3 (ipykernel)",
   "language": "python",
   "name": "python3"
  },
  "language_info": {
   "codemirror_mode": {
    "name": "ipython",
    "version": 3
   },
   "file_extension": ".py",
   "mimetype": "text/x-python",
   "name": "python",
   "nbconvert_exporter": "python",
   "pygments_lexer": "ipython3",
   "version": "3.12.2"
  }
 },
 "nbformat": 4,
 "nbformat_minor": 4
}

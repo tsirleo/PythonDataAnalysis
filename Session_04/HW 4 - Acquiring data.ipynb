{
 "cells": [
  {
   "cell_type": "markdown",
   "metadata": {},
   "source": [
    "# HW 4 - Acquiring data"
   ]
  },
  {
   "cell_type": "markdown",
   "metadata": {},
   "source": [
    "## Task 1. HDF to CSV conversion\n",
    "Create a script to automatically convert data stored in the netCDF format in the \"Data/LS_MS Data CDF\" to the CSV format. Output files should be equivalent to the files in the \"Data/LS_MS Data CSV\" folder."
   ]
  },
  {
   "cell_type": "markdown",
   "metadata": {},
   "source": [
    "## Task 2. LS/MS Data exploration\n",
    "Use netCDF4 library to explore the contents of the \".CDF\" files from the \"Data/LS_MS Data CDF\". Try to extract the following information:\n",
    "1. All the information about the instrument, which was used to collect the data.\n",
    "2. All time-series related data. Try to figure out how data is stored."
   ]
  },
  {
   "cell_type": "markdown",
   "metadata": {},
   "source": [
    "## Task 3. Data repositories exploration\n",
    "Explore different posssibilities to acquire data. First check out the UCI repository (http://archive.ics.uci.edu/ml/datasets.html) datasets.\n",
    "\n",
    "Use python to load following datasets from the UCI repository (we will use them for the sessions ahead):\n",
    "1. http://archive.ics.uci.edu/ml/datasets/Computer+Hardware\n",
    "2. http://archive.ics.uci.edu/ml/datasets/Wine\n",
    "\n",
    "You have to check the description of the dataset to able to load it correctly and have all the meta-data and attributes loaded also.\n",
    "\n",
    "Since datasets are all stored differently you might have to write slightly different loading procedures for every set.\n",
    "\n",
    "Explore the data, which you have loaded. Visualize results."
   ]
  }
 ],
 "metadata": {
  "kernelspec": {
   "display_name": "Python 3 (ipykernel)",
   "language": "python",
   "name": "python3"
  },
  "language_info": {
   "codemirror_mode": {
    "name": "ipython",
    "version": 3
   },
   "file_extension": ".py",
   "mimetype": "text/x-python",
   "name": "python",
   "nbconvert_exporter": "python",
   "pygments_lexer": "ipython3",
   "version": "3.12.2"
  }
 },
 "nbformat": 4,
 "nbformat_minor": 4
}

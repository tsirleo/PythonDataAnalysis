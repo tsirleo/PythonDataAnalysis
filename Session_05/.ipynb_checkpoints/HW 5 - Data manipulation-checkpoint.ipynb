{
 "cells": [
  {
   "cell_type": "markdown",
   "metadata": {},
   "source": [
    "# HW 5 - Data manipulation"
   ]
  },
  {
   "cell_type": "markdown",
   "metadata": {},
   "source": [
    "## Task 1.\n",
    "\n",
    "1. Consider a given vector, how to add 1 to each element indexed by a second vector (be careful with repeated indices)? (Hint: checkout np.bincount function)\n",
    "2. Considering a four dimensions array, how to get sum over the last two axis at once?\n",
    "3. How to get the diagonal of a dot product? (Hint: there different ways to do that and they have different execution time)\n",
    "4. Consider an array Z = [1,2,3,4,5,6,7,8,9,10,11,12,13,14], how to generate an array R = [[1,2,3,4], [2,3,4,5], [3,4,5,6], ..., [11,12,13,14]]? (Hint: checkout stride_tricks.as_strided function)\n",
    "5. Consider a 16x16 array, how to get the block-sum (block size is 4x4)?\n",
    "6. Create a structured array with x and y coordinates covering the [0,1]x[0,1] area. (Hint: checkout np.linspace and np.meshgrid functions)."
   ]
  },
  {
   "cell_type": "markdown",
   "metadata": {},
   "source": [
    "## Task 2.\n",
    "\n",
    "1. Generate a generic 2D Gaussian-like array (Hint: checkout np.linspace function). Visualize the results.\n",
    "2. How to tell if a given 2D array has null columns?\n",
    "3. Consider the vector [1, 2, 3, 4, 5], how to build a new vector with 3 consecutive zeros interleaved between each value?\n",
    "4. Considering a 15x5 matrix, extract rows with unequal values (e.g. [1,2,2,3,4]).\n",
    "5. Given an arbitrary number of vectors, build the cartesian product (every combinations of every item).\n",
    "6. Consider a random vector with shape (100,2) representing coordinates, find point by point distances."
   ]
  },
  {
   "cell_type": "markdown",
   "metadata": {},
   "source": [
    "## Task 3.\n",
    "Check the Bag-of-words dataset from UCI repository (https://archive.ics.uci.edu/ml/datasets/Bag+of+Words). Try to load at least one text collection from the dataset. Explore the collection:\n",
    "\n",
    "1. Provide basic statistics about the collection (e.g. the minimal, maximal and average number of words in a text and etc).\n",
    "2. Create a function, which allows to build a histogram of the N most frequent words in selected text.\n",
    "3. Create f function, which allows to build a scatter plot of the N most frequent words against the files, where they can be found\n",
    "\n",
    "Since the collection is big, you might run into some trouble with performance. Try to optimize your work by using sparse matrices."
   ]
  }
 ],
 "metadata": {
  "kernelspec": {
   "display_name": "Python 3 (ipykernel)",
   "language": "python",
   "name": "python3"
  },
  "language_info": {
   "codemirror_mode": {
    "name": "ipython",
    "version": 3
   },
   "file_extension": ".py",
   "mimetype": "text/x-python",
   "name": "python",
   "nbconvert_exporter": "python",
   "pygments_lexer": "ipython3",
   "version": "3.12.2"
  }
 },
 "nbformat": 4,
 "nbformat_minor": 4
}

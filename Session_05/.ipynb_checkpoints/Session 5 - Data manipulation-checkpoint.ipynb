{
 "cells": [
  {
   "cell_type": "markdown",
   "metadata": {},
   "source": [
    "# Session 5 - Data manipulation"
   ]
  },
  {
   "cell_type": "markdown",
   "metadata": {},
   "source": [
    "## Session agenda\n",
    "1. NumPy: efficient data structures for multidimensional arrays.\n",
    "2. Creating and manipulating arrays.\n",
    "3. Broadcasting and universal functions.\n",
    "4. Examples and applications.\n",
    "5. Matrices. Full and sparse representations. Using scipy.sparse to store and manipulate sparse data."
   ]
  },
  {
   "cell_type": "markdown",
   "metadata": {},
   "source": [
    "## NumPy"
   ]
  },
  {
   "cell_type": "markdown",
   "metadata": {},
   "source": [
    "### Creating ndarrays\n",
    "We will now check different examples of creating NumPy multidimensional arrays"
   ]
  },
  {
   "cell_type": "code",
   "execution_count": 1,
   "metadata": {},
   "outputs": [],
   "source": [
    "#Doing import once for the entire notebook\n",
    "import numpy as np"
   ]
  },
  {
   "cell_type": "code",
   "execution_count": 2,
   "metadata": {},
   "outputs": [
    {
     "name": "stdout",
     "output_type": "stream",
     "text": [
      "[1.  2.3 4.5 5.  3. ]\n",
      "(5,) float64\n",
      "['1.0' '2' 'string'] (3,) <U32\n"
     ]
    }
   ],
   "source": [
    "# Creating arrays from container types\n",
    "a = np.array([1.,2.3,4.5,5.,3.])\n",
    "print(a)\n",
    "\n",
    "# Every NumPy array has a shape and type associated with it\n",
    "print(a.shape, a.dtype)\n",
    "\n",
    "# NumPy selects the most appropriate type for the array \n",
    "a2 = np.array([1.,2,\"string\"])\n",
    "print(a2, a2.shape, a2.dtype)"
   ]
  },
  {
   "cell_type": "code",
   "execution_count": 3,
   "metadata": {},
   "outputs": [
    {
     "name": "stdout",
     "output_type": "stream",
     "text": [
      "[0. 0. 0. 0. 0. 0. 0. 0. 0. 0.]\n",
      "[[1. 1. 1. 1.]\n",
      " [1. 1. 1. 1.]\n",
      " [1. 1. 1. 1.]]\n",
      "[[[6.23042070e-307 3.56043053e-307 1.60219306e-306 2.44763557e-307]\n",
      "  [1.69119330e-306 1.78022342e-306 1.05700345e-307 3.11525958e-307]\n",
      "  [1.69118108e-306 8.06632139e-308 1.20160711e-306 1.69119330e-306]]\n",
      "\n",
      " [[1.29062229e-306 1.29060531e-306 6.89805151e-307 7.56592338e-307]\n",
      "  [6.89807188e-307 2.13620807e-306 1.69118787e-306 2.22522597e-306]\n",
      "  [1.33511969e-306 1.00132483e-307 8.45610231e-307 3.20552953e-317]]]\n",
      "[[1. 0. 0. 0.]\n",
      " [0. 1. 0. 0.]\n",
      " [0. 0. 1. 0.]\n",
      " [0. 0. 0. 1.]]\n",
      "[[1. 1. 1.]\n",
      " [1. 1. 1.]]\n",
      "[0 1 2 3 4 5 6 7 8 9]\n",
      "[0.  0.1 0.2 0.3 0.4 0.5 0.6 0.7 0.8 0.9]\n"
     ]
    }
   ],
   "source": [
    "# There is a number of common array initializers\n",
    "print(np.zeros(10))\n",
    "print(np.ones((3,4)))\n",
    "print(np.empty((2,3,4)))\n",
    "print(np.eye(4))\n",
    "print(np.ones_like(np.zeros((2,3))))\n",
    "#range equivalent\n",
    "print(np.arange(10))\n",
    "print(np.arange(0.,1.,.1))"
   ]
  },
  {
   "cell_type": "code",
   "execution_count": 4,
   "metadata": {},
   "outputs": [
    {
     "name": "stdout",
     "output_type": "stream",
     "text": [
      "[0.1 1.1 2.1 3.1 4.1 5.1 6.1 7.1 8.1 9.1] float64\n",
      "[0 1 2 3 4 5 6 7 8 9] int16\n"
     ]
    }
   ],
   "source": [
    "#Array type can be changed with astype method\n",
    "a3 = np.arange(0.1,10.1,1)\n",
    "print(a3,a3.dtype)\n",
    "a4 = a3.astype(np.int16)\n",
    "print(a4,a4.dtype)"
   ]
  },
  {
   "cell_type": "code",
   "execution_count": 5,
   "metadata": {},
   "outputs": [
    {
     "name": "stdout",
     "output_type": "stream",
     "text": [
      "[ 0  1  2  3  4  5  6  7  8  9 10 11]\n",
      "[[ 0  1  2  3]\n",
      " [ 4  5  6  7]\n",
      " [ 8  9 10 11]]\n",
      "[[[ 0  1]\n",
      "  [ 2  3]\n",
      "  [ 4  5]]\n",
      "\n",
      " [[ 6  7]\n",
      "  [ 8  9]\n",
      "  [10 11]]]\n",
      "[[ 0  4  8]\n",
      " [ 1  5  9]\n",
      " [ 2  6 10]\n",
      " [ 3  7 11]] (4, 3)\n",
      "[[ 0]\n",
      " [ 1]\n",
      " [ 2]\n",
      " [ 3]\n",
      " [ 4]\n",
      " [ 5]\n",
      " [ 6]\n",
      " [ 7]\n",
      " [ 8]\n",
      " [ 9]\n",
      " [10]\n",
      " [11]]\n",
      "[[ 0]\n",
      " [ 1]\n",
      " [ 2]\n",
      " [ 3]\n",
      " [ 4]\n",
      " [ 5]\n",
      " [ 6]\n",
      " [ 7]\n",
      " [ 8]\n",
      " [ 9]\n",
      " [10]\n",
      " [11]]\n"
     ]
    }
   ],
   "source": [
    "# Changing the shape of the array\n",
    "a5 = np.arange(12)\n",
    "print(a5)\n",
    "print(a5.reshape(3,4))\n",
    "print(a5.reshape(2,3,2))\n",
    "a6 = a5.reshape(3,4).transpose()\n",
    "print(a6,a6.shape)\n",
    "# Subtle things, when you have one dimensional arrays\n",
    "print(a5[np.newaxis,:].T)\n",
    "print(a5[np.newaxis,:].swapaxes(1,0))"
   ]
  },
  {
   "cell_type": "markdown",
   "metadata": {},
   "source": [
    "### Array indexing and slicing"
   ]
  },
  {
   "cell_type": "code",
   "execution_count": 6,
   "metadata": {},
   "outputs": [
    {
     "name": "stdout",
     "output_type": "stream",
     "text": [
      "4\n",
      "[4 5 6]\n",
      "[ 0  2  4  6  8 10]\n",
      "[ 0  1 13 13 13 13 13 13  8  9 10 11]\n"
     ]
    }
   ],
   "source": [
    "#Basic slicing and indexing\n",
    "print(a5[4])\n",
    "print(a5[4:7])\n",
    "print(a5[::2])\n",
    "#Slices are views\n",
    "a5[2:8] = 13\n",
    "print(a5)"
   ]
  },
  {
   "cell_type": "code",
   "execution_count": 11,
   "metadata": {},
   "outputs": [
    {
     "ename": "TypeError",
     "evalue": "can only assign an iterable",
     "output_type": "error",
     "traceback": [
      "\u001b[1;31m---------------------------------------------------------------------------\u001b[0m",
      "\u001b[1;31mTypeError\u001b[0m                                 Traceback (most recent call last)",
      "Cell \u001b[1;32mIn[11], line 3\u001b[0m\n\u001b[0;32m      1\u001b[0m \u001b[38;5;66;03m# Assign value to a slice does not work with common lists\u001b[39;00m\n\u001b[0;32m      2\u001b[0m test \u001b[38;5;241m=\u001b[39m [\u001b[38;5;241m1\u001b[39m,\u001b[38;5;241m2\u001b[39m,\u001b[38;5;241m3\u001b[39m,\u001b[38;5;241m4\u001b[39m]\n\u001b[1;32m----> 3\u001b[0m \u001b[43mtest\u001b[49m\u001b[43m[\u001b[49m\u001b[38;5;241;43m1\u001b[39;49m\u001b[43m:\u001b[49m\u001b[38;5;241;43m2\u001b[39;49m\u001b[43m]\u001b[49m \u001b[38;5;241m=\u001b[39m \u001b[38;5;241m10\u001b[39m\n",
      "\u001b[1;31mTypeError\u001b[0m: can only assign an iterable"
     ]
    }
   ],
   "source": [
    "# Assign value to a slice does not work with common lists\n",
    "test = [1,2,3,4]\n",
    "test[1:2] = 10"
   ]
  },
  {
   "cell_type": "code",
   "execution_count": 10,
   "metadata": {},
   "outputs": [
    {
     "name": "stdout",
     "output_type": "stream",
     "text": [
      "[ 0  1  2  3  4  5  6  7  8  9 10 11]\n",
      "[[ 0  1  2  3]\n",
      " [ 8  9 10 11]]\n",
      "[[13  1  2 13]\n",
      " [ 4  5  6  7]\n",
      " [13  9 10 13]]\n"
     ]
    }
   ],
   "source": [
    "# With multidimensional arrays you can do a lot with slicing\n",
    "# But it can be quite tricky\n",
    "s = np.arange(12)\n",
    "print(s)\n",
    "print(s.reshape(3,4)[::2])\n",
    "s1 = s.reshape(3,4)\n",
    "s1[::2,::3] = 13\n",
    "print(s1)"
   ]
  },
  {
   "cell_type": "code",
   "execution_count": 4,
   "metadata": {},
   "outputs": [
    {
     "name": "stdout",
     "output_type": "stream",
     "text": [
      "[[-0.79848281  0.8878142  -0.43872143 -0.31072693  0.08038273 -0.72298732]\n",
      " [-0.64852689  0.39383644 -0.71877705 -0.19161858  1.60381616  0.12588706]\n",
      " [-0.01846578 -0.75734805 -0.10070933  2.0075013   2.46287653 -1.51682209]\n",
      " [ 1.1170651  -0.08411596 -0.04502777  0.87201174  0.76679925  1.40104064]\n",
      " [ 1.14509885  0.16870317  1.42315659  0.56584034  0.35091983  0.68929892]]\n",
      "[False False  True False False]\n",
      "\n",
      "\n",
      "[[-0.01846578 -0.75734805 -0.10070933  2.0075013   2.46287653 -1.51682209]]\n",
      "\n",
      "\n",
      "[[ 0.8878142  -0.43872143]\n",
      " [-0.75734805 -0.10070933]]\n",
      "\n",
      "\n",
      "[[0.         0.8878142  0.         0.         0.08038273 0.        ]\n",
      " [0.         0.39383644 0.         0.         1.60381616 0.12588706]\n",
      " [0.         0.         0.         2.0075013  2.46287653 0.        ]\n",
      " [1.1170651  0.         0.         0.87201174 0.76679925 1.40104064]\n",
      " [1.14509885 0.16870317 1.42315659 0.56584034 0.35091983 0.68929892]]\n"
     ]
    }
   ],
   "source": [
    "#Boolean indexing\n",
    "samples = np.array(['sample1','sample2','sample3','sample4','sample5'])\n",
    "data = np.random.randn(5,6)\n",
    "print(data)\n",
    "print(samples == 'sample3')\n",
    "print('\\n')\n",
    "print(data[samples == 'sample3'])\n",
    "print('\\n')\n",
    "print(data[(samples == 'sample1') | (samples == 'sample3'), 1:3])\n",
    "print('\\n')\n",
    "data[data < 0] = 0\n",
    "print(data)"
   ]
  },
  {
   "cell_type": "code",
   "execution_count": 12,
   "metadata": {},
   "outputs": [
    {
     "name": "stdout",
     "output_type": "stream",
     "text": [
      "f [[ 0  1  2  3]\n",
      " [ 4  5  6  7]\n",
      " [ 8  9 10 11]]\n",
      "f1: [ 0  5 11]\n",
      "f2 [[ 0  3]\n",
      " [ 8 11]]\n"
     ]
    }
   ],
   "source": [
    "#Fancy indexing\n",
    "#You can use integer arrays to index your array\n",
    "f = np.arange(12).reshape(3,4)\n",
    "print('f', f)\n",
    "print('f1:',f[[0,1,2],[0,1,3]])\n",
    "i = np.array([0,2,0,3]).reshape(2,2)\n",
    "print('f2',f[np.ix_([0,2],[0,3])])"
   ]
  },
  {
   "cell_type": "markdown",
   "metadata": {},
   "source": [
    "## Concatinating and splitting the array"
   ]
  },
  {
   "cell_type": "code",
   "execution_count": 11,
   "metadata": {},
   "outputs": [
    {
     "name": "stdout",
     "output_type": "stream",
     "text": [
      "[[ 0  1  2  3]\n",
      " [ 4  5  6  7]\n",
      " [ 8  9 10 11]\n",
      " [12 13 14 15]\n",
      " [16 17 18 19]\n",
      " [20 21 22 23]]\n",
      "[[ 0  1  2  3 12 13 14 15]\n",
      " [ 4  5  6  7 16 17 18 19]\n",
      " [ 8  9 10 11 20 21 22 23]]\n",
      "[[ 0  1  2  3]\n",
      " [ 4  5  6  7]\n",
      " [ 8  9 10 11]\n",
      " [12 13 14 15]\n",
      " [16 17 18 19]\n",
      " [20 21 22 23]]\n",
      "[[ 0  1  2  3 12 13 14 15]\n",
      " [ 4  5  6  7 16 17 18 19]\n",
      " [ 8  9 10 11 20 21 22 23]]\n",
      "\n",
      "\n",
      "[array([[0],\n",
      "       [4],\n",
      "       [8]]), array([[ 1,  2],\n",
      "       [ 5,  6],\n",
      "       [ 9, 10]]), array([[ 3],\n",
      "       [ 7],\n",
      "       [11]])]\n"
     ]
    }
   ],
   "source": [
    "#Concatinating\n",
    "c1 = np.arange(12).reshape(3,4)\n",
    "c2 = np.arange(12,24).reshape(3,4)\n",
    "print(np.concatenate([c1,c2], axis=0))\n",
    "print(np.concatenate([c1,c2], axis=1))\n",
    "print(np.vstack((c1,c2)))\n",
    "print(np.hstack((c1,c2)))\n",
    "\n",
    "print('\\n')\n",
    "#Splitting\n",
    "print(np.split(c1,[1,3],axis = 1))"
   ]
  },
  {
   "cell_type": "markdown",
   "metadata": {},
   "source": [
    "## Vectorization and basic array manipulation\n",
    "NumPy is very good at using vectorized operations on arrays. If you learn to transform your computation and data analysis task into the vectorized form, then you will be able to unlock the full power of NumPy. Let us check a couple of examples."
   ]
  },
  {
   "cell_type": "code",
   "execution_count": 15,
   "metadata": {},
   "outputs": [
    {
     "name": "stdout",
     "output_type": "stream",
     "text": [
      "List comprehension:\n",
      "3.3 µs ± 163 ns per loop (mean ± std. dev. of 7 runs, 1000 loops each)\n",
      "Map:\n",
      "3.85 µs ± 145 ns per loop (mean ± std. dev. of 7 runs, 1000 loops each)\n",
      "NumPy:\n",
      "539 ns ± 12.3 ns per loop (mean ± std. dev. of 7 runs, 1000 loops each)\n"
     ]
    }
   ],
   "source": [
    "size = 10\n",
    "print('List comprehension:')\n",
    "test = np.arange(size)\n",
    "%timeit -n 1000 result = [x ** 2 for x in test]\n",
    "\n",
    "print('Map:')\n",
    "test = np.arange(size)\n",
    "%timeit -n 1000 result = list(map(lambda x: x ** 2, test))\n",
    "\n",
    "print('NumPy:')\n",
    "test = np.arange(size)\n",
    "%timeit -n 1000 result = test ** 2"
   ]
  },
  {
   "cell_type": "markdown",
   "metadata": {},
   "source": [
    "## Universal functions\n",
    "NumPy provide a number of functions, which perform vectorized operations on arrays. This functions help a lot with vectorizing your computations and making your code more efficient."
   ]
  },
  {
   "cell_type": "code",
   "execution_count": 135,
   "metadata": {},
   "outputs": [
    {
     "name": "stdout",
     "output_type": "stream",
     "text": [
      "[ 0.          1.          1.41421356  1.73205081  2.          2.23606798\n",
      "  2.44948974  2.64575131  2.82842712  3.          3.16227766  3.31662479]\n",
      "[  1.00000000e+00   2.71828183e+00   7.38905610e+00   2.00855369e+01\n",
      "   5.45981500e+01   1.48413159e+02   4.03428793e+02   1.09663316e+03\n",
      "   2.98095799e+03   8.10308393e+03   2.20264658e+04   5.98741417e+04]\n",
      "66\n",
      "5.5\n"
     ]
    }
   ],
   "source": [
    "#Examples of universal function use\n",
    "u = np.arange(12)\n",
    "print(np.sqrt(u))\n",
    "print(np.exp(u))\n",
    "print(np.sum(u))\n",
    "print(np.mean(u))\n",
    "# ... and you have many more alike\n"
   ]
  },
  {
   "cell_type": "code",
   "execution_count": 167,
   "metadata": {},
   "outputs": [
    {
     "name": "stdout",
     "output_type": "stream",
     "text": [
      "[[  7.61108521e-04  -1.24759770e+00  -1.06858607e+00   1.56921078e+00\n",
      "   -3.23662395e-01   1.95620382e+00]]\n",
      "[[-1.63544214 -1.87461908  1.0487266  -0.01375852  0.67337441  0.02481936]]\n",
      "[[ True  True False  True False  True]]\n",
      "[0.0007611085206315673, -1.2475977036978712, 1.0487265953368374, 1.5692107813888321, 0.67337441362183625, 1.9562038169620692]\n",
      "[[  7.61108521e-04  -1.24759770e+00   1.04872660e+00   1.56921078e+00\n",
      "    6.73374414e-01   1.95620382e+00]]\n",
      "[[  7.61108521e-04  -1.24759770e+00   1.04872660e+00   1.56921078e+00\n",
      "    6.73374414e-01   1.95620382e+00]]\n",
      "[[ 1 -1 -1  1 -1  1]]\n"
     ]
    }
   ],
   "source": [
    "#Expressing conditional logic\n",
    "a_x = np.random.randn(1,6)\n",
    "a_y = np.random.randn(1,6)\n",
    "a_c = a_x > a_y\n",
    "\n",
    "a_x_r = a_x.reshape(6,)\n",
    "a_y_r = a_y.reshape(6,)\n",
    "a_c_r = a_x_r > a_y_r\n",
    "print(a_x)\n",
    "print(a_y)\n",
    "print(a_c)\n",
    "print([(x if c else y) for x,y,c in zip(a_x_r,a_y_r,a_c_r)])\n",
    "\n",
    "#You can use np.where for the tasks alike\n",
    "print(np.where(a_c,a_x,a_y))\n",
    "print(np.where(a_x > a_y,a_x,a_y))\n",
    "print(np.where(a_x >0, 1,-1))"
   ]
  },
  {
   "cell_type": "code",
   "execution_count": 14,
   "metadata": {},
   "outputs": [
    {
     "name": "stdout",
     "output_type": "stream",
     "text": [
      "1 loop, best of 3: 950 ms per loop\n",
      "10 loops, best of 3: 135 ms per loop\n",
      "10 loops, best of 3: 174 ms per loop\n"
     ]
    }
   ],
   "source": [
    "#There are some very interesting universal functions with interesting capabilities\n",
    "# and good performance\n",
    "# Check: https://docs.scipy.org/doc/numpy/reference/generated/numpy.einsum.html\n",
    "x = np.random.rand(int(2e7))\n",
    "\n",
    "%timeit np.power(x,3)\n",
    "%timeit x*x*x\n",
    "%timeit np.einsum('i,i,i->i',x,x,x)"
   ]
  },
  {
   "cell_type": "markdown",
   "metadata": {},
   "source": [
    "### Universal functions instance methods\n",
    "Universal function has special instance methods, which can be used to alter the way the operation is perfromed:\n",
    "\n",
    "1. reduce(x) - Aggregate values by successive applications of the operation\n",
    "2. accumulate(x) - Aggregate values, preserving all partial aggregates\n",
    "3. reduceat(x, bins) - “Local” reduce or “group by”. Reduce contiguous slices of data to produce aggregated array.\n",
    "4. outer(x, y) - Apply operation to all pairs of elements in x and y. Result array has shape x.shape + y.shape"
   ]
  },
  {
   "cell_type": "code",
   "execution_count": 182,
   "metadata": {},
   "outputs": [
    {
     "name": "stdout",
     "output_type": "stream",
     "text": [
      "Random 2D array:\n",
      "[[-0.03856523  0.15231557  1.50802088 -0.36659815  0.95904666]\n",
      " [-1.02730357  0.1778218  -1.52925251  1.37581919  0.82343132]\n",
      " [-0.21641353  1.07397136  1.29491587 -1.03837836 -0.46151714]\n",
      " [-0.87165655 -0.06632422  1.68501724  0.75716329  0.57941734]]\n",
      "Reduce rows:\n",
      "[-2.15393888  1.33778451  2.95870148  0.72800597  1.90037818]\n",
      "Accumulate columns:\n",
      "[[-0.03856523  0.11375034  1.62177121  1.25517307  2.21421973]\n",
      " [-1.02730357 -0.84948177 -2.37873427 -1.00291509 -0.17948377]\n",
      " [-0.21641353  0.85755783  2.1524737   1.11409534  0.6525782 ]\n",
      " [-0.87165655 -0.93798077  0.74703646  1.50419975  2.08361709]]\n",
      "Group by f2[0:2],f2[2],f2[3:]\n",
      "[[ 0.11375034  1.50802088  0.59244851]\n",
      " [-0.84948177 -1.52925251  2.19925051]\n",
      " [ 0.85755783  1.29491587 -1.4998955 ]\n",
      " [-0.93798077  1.68501724  1.33658063]]\n",
      "Outer add:\n",
      "[[0 1 2 3 4]\n",
      " [1 2 3 4 5]\n",
      " [2 3 4 5 6]\n",
      " [3 4 5 6 7]\n",
      " [4 5 6 7 8]]\n"
     ]
    }
   ],
   "source": [
    "f2 = np.random.randn(4,5)\n",
    "print('Random 2D array:')\n",
    "print(f2)\n",
    "print('Reduce rows:')\n",
    "print(np.add.reduce(f2, axis=0))\n",
    "print('Accumulate columns:')\n",
    "print(np.add.accumulate(f2, axis=1))\n",
    "print('Group by f2[0:2],f2[2],f2[3:]')\n",
    "print(np.add.reduceat(f2,[0,2,3],axis=1))\n",
    "f3 = np.arange(5)\n",
    "print('Outer add:')\n",
    "print(np.add.outer(f3,f3))"
   ]
  },
  {
   "cell_type": "markdown",
   "metadata": {},
   "source": [
    "## Broadcasting\n",
    "Broadcasting describes how arithmetic works between arrays of different shapes. It is\n",
    "a very powerful feature, but one that can be easily misunderstood, even by experienced\n",
    "users.\n",
    "\n",
    "### The Broadcasting Rule\n",
    "Two arrays are compatible for broadcasting if for each trailing dimension (that is, starting\n",
    "from the end), the axis lengths match or if either of the lengths is 1. Broadcasting\n",
    "is then performed over the missing and / or length 1 dimensions.\n",
    "\n",
    "In some cases we will need np.newaxis to make arrays compatible and for the broadcasting to work."
   ]
  },
  {
   "cell_type": "code",
   "execution_count": 191,
   "metadata": {},
   "outputs": [
    {
     "name": "stdout",
     "output_type": "stream",
     "text": [
      "Random 2D array:\n",
      "[[ 0.06385284 -2.17105746 -2.07476248  0.44460736 -1.30377225]\n",
      " [ 0.67460218 -2.57736786  0.40271152  0.62906945  1.22752164]\n",
      " [ 0.11095106 -0.02122058  1.49839224  0.28620607 -0.01419084]\n",
      " [ 0.7354309   0.24405182 -0.48830316  0.12613074 -2.04284073]]\n",
      "Row mean:  [-1.0082264   0.07130739  0.37202759 -0.28510609]\n",
      "Row demeaned array:\n",
      "[[ 1.07207924 -1.16283106 -1.06653609  1.45283375 -0.29554585]\n",
      " [ 0.6032948  -2.64867525  0.33140414  0.55776206  1.15621425]\n",
      " [-0.26107653 -0.39324817  1.12636465 -0.08582152 -0.38621843]\n",
      " [ 1.02053699  0.5291579  -0.20319708  0.41123682 -1.75773464]]\n",
      "[[ 1.07207924 -1.16283106 -1.06653609  1.45283375 -0.29554585]\n",
      " [ 0.6032948  -2.64867525  0.33140414  0.55776206  1.15621425]\n",
      " [-0.26107653 -0.39324817  1.12636465 -0.08582152 -0.38621843]\n",
      " [ 1.02053699  0.5291579  -0.20319708  0.41123682 -1.75773464]]\n",
      "Column mean:  [ 0.39620925 -1.13139852 -0.16549047  0.3715034  -0.53332054]\n",
      "Column demeaned array:\n",
      "[[-0.33235641 -1.03965894 -1.90927201  0.07310395 -0.7704517 ]\n",
      " [ 0.27839294 -1.44596934  0.568202    0.25756605  1.76084218]\n",
      " [-0.28525819  1.11017794  1.66388271 -0.08529734  0.5191297 ]\n",
      " [ 0.33922166  1.37545034 -0.32281269 -0.24537267 -1.50952018]]\n"
     ]
    }
   ],
   "source": [
    "#Examples of broadcasting\n",
    "r = np.random.randn(4,5)\n",
    "print('Random 2D array:')\n",
    "print(r)\n",
    "\n",
    "print('Row mean: ', r.mean(1))\n",
    "print('Row demeaned array:')\n",
    "print(r - r.mean(1).reshape(r.shape[0],1))\n",
    "print(r - r.mean(1)[:,np.newaxis])\n",
    "\n",
    "print('Column mean: ', r.mean(0))\n",
    "print('Column demeaned array:')\n",
    "print(r - r.mean(0)[np.newaxis,:])"
   ]
  },
  {
   "cell_type": "markdown",
   "metadata": {},
   "source": [
    "## Data processing using arrays\n",
    "Let us now try to complete a number of tasks. Try to vectorize most of your computation. Always check what kind of execution time you get with %timeit magic."
   ]
  },
  {
   "cell_type": "markdown",
   "metadata": {
    "collapsed": true,
    "jupyter": {
     "outputs_hidden": true
    }
   },
   "source": [
    "## NumPy matrix class\n",
    "NumPy has a special matrix class (np.matrix), which is more suitable for write code with a lot of matrix operation. Check documentation for the difference in syntax and difference in behavior. For those familiar with MATLAB, np.matrix behavior is very similar to that of MATLAB matrices."
   ]
  },
  {
   "cell_type": "markdown",
   "metadata": {},
   "source": [
    "## Full and sparse matrix representation\n",
    "In some cases matrices has just a few non-zero elements. Such matrices are considered sparse. In certain cases we can treat matrix as an adjacency matrix of a graph. In this case a sparse matrix will be equivalent to a sparse graph (number of vertices as significantly greater then number of edges).\n",
    "\n",
    "For this type of graphs it is usually more effecient to use adjacency lists or edge lists. Thus, for sparse matrices it is also more efficient to use a list-like representation. Usually, sparse matrices are represented with list of non-sero elements coordinates or in some similar way (you can think of it as something similar to the edge list). Check out SciPy documentation for different sparse matrix formats. Let us check an example of using sparse representation to increase performance."
   ]
  },
  {
   "cell_type": "code",
   "execution_count": 14,
   "metadata": {},
   "outputs": [],
   "source": [
    "import scipy as sp\n",
    "from scipy import sparse"
   ]
  },
  {
   "cell_type": "code",
   "execution_count": 16,
   "metadata": {},
   "outputs": [
    {
     "name": "stdout",
     "output_type": "stream",
     "text": [
      "Full representation:\n",
      "116 ms ± 6.6 ms per loop (mean ± std. dev. of 7 runs, 10 loops each)\n",
      "Sparse representation:\n",
      "133 µs ± 11.1 µs per loop (mean ± std. dev. of 7 runs, 10 loops each)\n"
     ]
    }
   ],
   "source": [
    "size = 2000\n",
    "A = np.random.randn(size,size)\n",
    "B = np.random.randn(size,size)\n",
    "A[A < 5] = 0\n",
    "B[B < 5] = 0\n",
    "\n",
    "#You can try different sparse matrix representations here to check how they affect performance\n",
    "A_sp = sp.sparse.coo_matrix(A)\n",
    "B_sp = sp.sparse.coo_matrix(B)\n",
    "print('Full representation:')\n",
    "%timeit -n 10 A.dot(B)\n",
    "print('Sparse representation:')\n",
    "%timeit -n 10 A_sp.dot(B_sp)"
   ]
  }
 ],
 "metadata": {
  "kernelspec": {
   "display_name": "Python 3 (ipykernel)",
   "language": "python",
   "name": "python3"
  },
  "language_info": {
   "codemirror_mode": {
    "name": "ipython",
    "version": 3
   },
   "file_extension": ".py",
   "mimetype": "text/x-python",
   "name": "python",
   "nbconvert_exporter": "python",
   "pygments_lexer": "ipython3",
   "version": "3.12.2"
  }
 },
 "nbformat": 4,
 "nbformat_minor": 4
}

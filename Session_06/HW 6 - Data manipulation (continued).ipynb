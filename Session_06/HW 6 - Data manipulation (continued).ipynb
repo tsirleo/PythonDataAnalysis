{
 "cells": [
  {
   "cell_type": "markdown",
   "metadata": {},
   "source": [
    "# HW 6 - Data manipulation (continued)"
   ]
  },
  {
   "cell_type": "markdown",
   "metadata": {},
   "source": [
    "## Task 1\n",
    "Load the GLU.csv file from the \"Data\" folder. The file contains peak area and height information from LS/MS time series data from GLU aminoacid from different analyzed samples. Use pandas to do the following:\n",
    "1. Load the data into a DataFrame data structure. You might need to do additional steps to create right indexing of DataFrame rows and columns. Explore the data.\n",
    "2. Convert peak areas into isotope ratios.\n",
    "3. Convert peak heights into isotope ratios.\n",
    "4. Calculate the distance between the produced ratios from first and second method. Is it significant?\n",
    "5. Merge all isotope ratios produced in different sample using mean strategy."
   ]
  },
  {
   "cell_type": "markdown",
   "metadata": {},
   "source": [
    "## Task 2.\n",
    "Use pandas to manipulate LS/MS time series data. You have to complete the following tasks:\n",
    "\n",
    "1. Process all the files in the \"Data/LS_MS NL\" folder: extract all peak's isotope ratios and put this information in a pandas DataFrame. Use hierarchical indexing to be able to attribute different information to the acquired data (e.g. aminoacid name, sample name, dilution). Try to select the most convinient way to store all the information about the peaks in one DataFrame.\n",
    "2. Use pandas functionality to find out how istope fraction's values change from one sample to another for a certain aminoacid and given retention time. Calculate the max and min values and the mean value.\n",
    "3. Output all peak retention times for a given amino acid.\n",
    "4. For a given retention time output all the samples names, which have a peak detected at specified retention time.\n",
    "5. Group all the corresponding peaks of certain aminoacid detected in different samples by getting the mean value for every mass across all the corresponding samples. You might have to do something about missing values. "
   ]
  }
 ],
 "metadata": {
  "kernelspec": {
   "display_name": "Python 3 (ipykernel)",
   "language": "python",
   "name": "python3"
  },
  "language_info": {
   "codemirror_mode": {
    "name": "ipython",
    "version": 3
   },
   "file_extension": ".py",
   "mimetype": "text/x-python",
   "name": "python",
   "nbconvert_exporter": "python",
   "pygments_lexer": "ipython3",
   "version": "3.12.2"
  }
 },
 "nbformat": 4,
 "nbformat_minor": 4
}

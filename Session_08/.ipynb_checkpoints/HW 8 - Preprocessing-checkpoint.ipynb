{
 "cells": [
  {
   "cell_type": "markdown",
   "metadata": {},
   "source": [
    "## Task 1. N-gram models\n",
    "\n",
    "Create different pipelines for extracting features from texts using 1-gram, 2-gram and 3-gram symbol counting model. Test your pipeline by extracting features from a subset of the 20 newsgroup dataset (https://scikit-learn.org/0.19/datasets/twenty_newsgroups.html). Evaluate performance of your pipelines. How arity of the the gram model affects performance?"
   ]
  },
  {
   "cell_type": "markdown",
   "metadata": {},
   "source": [
    "## Task 2. Custom transformers\n",
    "Create your custom transformer, which filters all N-grams from the text, which has the the highest frequency."
   ]
  },
  {
   "cell_type": "markdown",
   "metadata": {},
   "source": [
    "## Task 3. Extracting features from images\n",
    "Create a pipeline for extracting features from images. Try to make your pipeline as versitile as possible, so that you can create different feature models. Consider following options:\n",
    "\n",
    "1. Informativeness of the model (how many information features contain).\n",
    "2. Complexity of the model (how hard it is to extract features)\n",
    "3. Preprocessing of features (is it necessary to perform some kind of additional transformation on the extracted features).\n",
    "\n",
    "In the end you must have a number of configured transformers and feature extractors, which you have assembled in different pipelines.\n",
    "\n",
    "Test your pipeline with the MNIST Database of hand-written digits: https://archive.ics.uci.edu/dataset/683/mnist+database+of+handwritten+digits or https://scikit-learn.org/stable/modules/generated/sklearn.datasets.load_digits.html#sklearn.datasets.load_digits.\n",
    "\n",
    "Is it possible to somehow evaluate or compare informativeness of the models without solving classification or regression tasks. "
   ]
  }
 ],
 "metadata": {
  "kernelspec": {
   "display_name": "Python 3 (ipykernel)",
   "language": "python",
   "name": "python3"
  },
  "language_info": {
   "codemirror_mode": {
    "name": "ipython",
    "version": 3
   },
   "file_extension": ".py",
   "mimetype": "text/x-python",
   "name": "python",
   "nbconvert_exporter": "python",
   "pygments_lexer": "ipython3",
   "version": "3.12.2"
  }
 },
 "nbformat": 4,
 "nbformat_minor": 4
}

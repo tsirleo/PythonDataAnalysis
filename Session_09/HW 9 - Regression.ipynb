{
 "cells": [
  {
   "cell_type": "markdown",
   "metadata": {},
   "source": [
    "# HW 12 - Regression"
   ]
  },
  {
   "cell_type": "markdown",
   "metadata": {},
   "source": [
    "## Task 1.\n",
    "For the rest of today's session let us do an example of regression analysis. Pick a dataset from the UCI repository or from sklearn. For example yo can select the Computer hardware dataset(http://archive.ics.uci.edu/ml/datasets/Computer+Hardware) and try to analyse how different parameters of computer hardware affect its perfromance. You can select any other dataset, which is tagged for regression, but be ready, that you might need to additional transformations of the initial data to perform regression.\n",
    "\n",
    "Start with linear regression, check the results, then try to use polynomial regression and regularization if necessary. At every step analyse the results, which you are getting."
   ]
  },
  {
   "cell_type": "markdown",
   "metadata": {},
   "source": [
    "## Task 2.\n",
    "Use polynomial regression to fit LS/MS time-series data. Do the following:\n",
    "\n",
    "1. Pick any file from the \"Data/LS_MS Data CSV\" folder.\n",
    "2. Use polynomial regression to fit time series data for each mass separetly. You have to select an approprieate degree of the regression polynomial, use regularization, if necessary.\n",
    "3. Check the results of the acquired fit. Use goodness-of-fit analysis and analysis of the residuals. In this case we can assume, that residuals must follow a normal distribution, but we don't know its parameters.\n",
    "4. If your analysis will show inconsistent results, then try to figure out what should be adjusted. You can change parameters of the model, correct regularization parameter or preprocess data."
   ]
  },
  {
   "cell_type": "markdown",
   "metadata": {},
   "source": [
    "## Task 3.\n",
    "Use non-linear regression to fit LS/MS time-series data. When provided time-series data contains one peak and its shape resembles a Gaussian bell curve, we can try to use non-linear regression to directly fit a normal distribution probability density function to the data. Do the following:\n",
    "\n",
    "1. Pick any file from the \"Data/LS_MS Data CSV\" folder, which contains one peak and its shape resembles a Gaussian bell curve,.\n",
    "2. Use nonlinear regression to fit time series data for each mass separetly. You will basically regression the parameters of the distribution (e.g. distribution mean value and variance).\n",
    "3. Check the results of the acquired fit. Use goodness-of-fit analysis and analysis of the residuals. Again, we can assume, that residuals must have normal distribution."
   ]
  }
 ],
 "metadata": {
  "kernelspec": {
   "display_name": "Python 3 (ipykernel)",
   "language": "python",
   "name": "python3"
  },
  "language_info": {
   "codemirror_mode": {
    "name": "ipython",
    "version": 3
   },
   "file_extension": ".py",
   "mimetype": "text/x-python",
   "name": "python",
   "nbconvert_exporter": "python",
   "pygments_lexer": "ipython3",
   "version": "3.12.2"
  }
 },
 "nbformat": 4,
 "nbformat_minor": 4
}

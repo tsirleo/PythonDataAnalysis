{
 "cells": [
  {
   "cell_type": "markdown",
   "metadata": {},
   "source": [
    "# HW 13 - Classification"
   ]
  },
  {
   "cell_type": "markdown",
   "metadata": {},
   "source": [
    "## Task 1. Books classification\n",
    "Build classificator for books classification on the basis of reader's reviews. For this task we will be using UCI Amazon book review dataset (https://archive.ics.uci.edu/ml/datasets/Amazon+book+reviews). You will need to do the following:\n",
    "1. Acquire the data from the repository.\n",
    "2. Preprocess data, so that it can be used for classification\n",
    "3. Select and train your classificator\n",
    "4. Validate your classification results"
   ]
  },
  {
   "cell_type": "markdown",
   "metadata": {},
   "source": [
    "## Task 2. Ensemble classifier\n",
    "Create your own ensemble classifier. The classifier is configured with a set of base classifiers, which are all fitted to the provided data. Classification is performed as a majority vote. The class, which was predicted by most of the provided classifiers is return as the result. If there is a draw, then the class is picked randomly from the set of classes, which had maximal number of predictions by the base classifiers.\n",
    "\n",
    "To implement your classifier follow the example of Session 13.\n",
    "\n",
    "Test your classifier on the classification problem from Task 1. Try to make an ensemble of classifiers, which will give you better classification results, then those acquired in Task 1."
   ]
  },
  {
   "cell_type": "code",
   "execution_count": null,
   "metadata": {
    "collapsed": true
   },
   "outputs": [],
   "source": []
  }
 ],
 "metadata": {
  "kernelspec": {
   "display_name": "Python 3",
   "language": "python",
   "name": "python3"
  },
  "language_info": {
   "codemirror_mode": {
    "name": "ipython",
    "version": 3
   },
   "file_extension": ".py",
   "mimetype": "text/x-python",
   "name": "python",
   "nbconvert_exporter": "python",
   "pygments_lexer": "ipython3",
   "version": "3.4.2"
  }
 },
 "nbformat": 4,
 "nbformat_minor": 2
}

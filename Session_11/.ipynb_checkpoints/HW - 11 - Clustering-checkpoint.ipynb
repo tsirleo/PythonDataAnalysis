{
 "cells": [
  {
   "cell_type": "markdown",
   "metadata": {},
   "source": [
    "# HW 11 - Clustering"
   ]
  },
  {
   "cell_type": "markdown",
   "metadata": {},
   "source": [
    "## Task 1.\r\n",
    "Copy the \"Color quantization using K-means\" example. Use this example to test clusterization algorithms in scikit-learn. Do the following:\r\n",
    "\r\n",
    "Modify the example to perform pixel clustering with the use of other algorithms, implemented in scikit-learn.\r\n",
    "Visualize quantized images to compare the results.\r\n",
    "Use scikit's metrics to automatically evaluate the results of quantization. Which metric we should use in this c\n",
    "ase?\r\n",
    "Link:\r\n",
    "\r\n",
    "http://scikit-learn.org/stable/auto_examples/cluster/plot_color_quantization.html#sphx-glr-auto-examples-cluster-plot-color-quantization-py"
   ]
  },
  {
   "cell_type": "markdown",
   "metadata": {},
   "source": [
    "## Task 2.\n",
    "Let us change our goal from quantization to segmentation (you can checkout \"A demo of structured Ward hierarchical clustering on a raccoon face image\"). Let us discuss how new task modifies the way we should do the clustering. Do the following:\n",
    "\n",
    "1. Once again consider the algorthims, you have just experimented with. Select algorithm, which suits best for the new task. Try to explain why.\n",
    "4. Since the task change, we need new metrics to evaluate the results. Select an approprite of metrics in this case. Comment your selection.\n",
    "\n",
    "Link:\n",
    "\n",
    "https://scikit-learn.org/0.17/auto_examples/cluster/plot_face_ward_segmentation.html"
   ]
  },
  {
   "cell_type": "markdown",
   "metadata": {},
   "source": [
    "## Task 3.\n",
    "Let us continue working with the UCI Amazon book review dataset (https://archive.ics.uci.edu/dataset/215/amazon+commerce+reviews+set). The goal of this task is to perfrom clustering on the readers reviews. You will have to do the following:\n",
    "1. Select several metrics, which you will use to calculate distances between reviews. You can calculate distances between the reviews directly or calculate distances between vectors, which you have used in Session 13, when you were creating different models to represent the readers reviews in a numerical form.\n",
    "2. Select different clustering algorithms to do the clusterization.\n",
    "3. Perfrom clusterization using different algorithms and different metrics. Some of the selected algorithms may have some limitations on the type of the input data and type of metric selected.\n",
    "4. Compare the results. Analyze how number of clusters, their size and structure change depending on the selected algorithm and metric. Try to automate this process. \n",
    "\n",
    "Evaluate the quality of performed clustering. Try to answer the following questions:\n",
    "\n",
    "1. How can we determine the number of clusters? Is there any problem with that?\n",
    "2. Do we have a ground truth in this case?\n",
    "3. Which parameters of the clusters are relevant to the performed analysis.\n",
    "4. Which metrics we can use to evaluate this type of clustering? "
   ]
  }
 ],
 "metadata": {
  "kernelspec": {
   "display_name": "Python 3 (ipykernel)",
   "language": "python",
   "name": "python3"
  },
  "language_info": {
   "codemirror_mode": {
    "name": "ipython",
    "version": 3
   },
   "file_extension": ".py",
   "mimetype": "text/x-python",
   "name": "python",
   "nbconvert_exporter": "python",
   "pygments_lexer": "ipython3",
   "version": "3.12.2"
  }
 },
 "nbformat": 4,
 "nbformat_minor": 4
}

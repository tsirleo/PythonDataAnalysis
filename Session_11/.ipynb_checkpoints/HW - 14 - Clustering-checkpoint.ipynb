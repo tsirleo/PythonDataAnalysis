{
 "cells": [
  {
   "cell_type": "markdown",
   "metadata": {},
   "source": [
    "# HW 14 - Clustering"
   ]
  },
  {
   "cell_type": "markdown",
   "metadata": {},
   "source": [
    "## Task 1.\n",
    "Perfrom clustering analysis on any of the time series data from the  \"Data/LS_MS Data CSV\" folder, which contains at least two separate peaks. The goal of this analysis is to cluster retention time points into clusters, which correspond to the regions with different peak's and regions with just background noise. Output clusters as corresponding retention time ranges. Visualize the results against initial time-series plots.\n",
    "\n",
    "Since we know the ground truth and can detect the ranges visually, perform clustering evaluation. You need to select an appropriate metric (or several metrics) for the analysis and explain, why this metrics are relevant in the evaluation of the  performed analysis. "
   ]
  },
  {
   "cell_type": "markdown",
   "metadata": {},
   "source": [
    "## Task 2.\n",
    "Folder \"Data/Function minimization\" contains data from several rounds of minimization of a multivariate non-linear function. The data is presented in tab-delimeted format, where each column corresponds to the values of the minimized function's variables and columns correspond do different rounds of minimization. Pick any file and perform clustering analysis. The goal is to find clusters, which correspond to the local minima of the minimized function. Explain in details, which type of clustering algorithm you have selected and why. \n",
    "\n",
    "Since we are dealing with data of high-dimensionality, try to suggest a way to perform visualization of the acquired clusters.\n",
    "\n",
    "How can we avaluate the quality of perfromed clustering. Try to answer the following questions:\n",
    "\n",
    "1. How can we determine the number of clusters? Is there any problem with that?\n",
    "2. Do we have a ground truth in this case?\n",
    "3. Which parameters of the clusters are relevant to the analysis."
   ]
  }
 ],
 "metadata": {
  "kernelspec": {
   "display_name": "Python 3",
   "language": "python",
   "name": "python3"
  },
  "language_info": {
   "codemirror_mode": {
    "name": "ipython",
    "version": 3
   },
   "file_extension": ".py",
   "mimetype": "text/x-python",
   "name": "python",
   "nbconvert_exporter": "python",
   "pygments_lexer": "ipython3",
   "version": "3.4.2"
  }
 },
 "nbformat": 4,
 "nbformat_minor": 2
}

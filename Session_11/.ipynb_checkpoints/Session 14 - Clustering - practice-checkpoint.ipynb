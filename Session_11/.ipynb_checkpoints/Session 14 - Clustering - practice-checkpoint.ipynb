{
 "cells": [
  {
   "cell_type": "markdown",
   "metadata": {},
   "source": [
    "# Session 14 - Clustering - practice"
   ]
  },
  {
   "cell_type": "markdown",
   "metadata": {},
   "source": [
    "## Task 1.\n",
    "Copy the \"Color quantization using K-means\" example. Use this example to test clusterization algorithms in scikit-learn. Do the following:\n",
    "1. Modify the example to perform pixel clustering with the use of other algorithms, implemented in scikit-learn.\n",
    "2. Visualize quantized images to compare the results.\n",
    "3. Use scikit's metrics to automatically evaluate the results of quantization. Which metric we should use in this case?\n",
    "\n",
    "Link:\n",
    "\n",
    "1. http://scikit-learn.org/stable/auto_examples/cluster/plot_color_quantization.html#sphx-glr-auto-examples-cluster-plot-color-quantization-py"
   ]
  },
  {
   "cell_type": "markdown",
   "metadata": {},
   "source": [
    "## Task 2.\n",
    "Let us change our goal from quantization to segmentation (you can checkout \"A demo of structured Ward hierarchical clustering on a raccoon face image\"). Let us discuss how new task modifies the way we should do the clustering. Do the following:\n",
    "\n",
    "1. Once again consider the algorthims, you have just experimented with. Select algorithm, which suits best for the new task. Try to explain why.\n",
    "4. Since the task change, we need new metrics to evaluate the results. Select an approprite of metrics in this case. Comment your selection.\n",
    "\n",
    "Link:\n",
    "\n",
    "2. http://scikit-learn.org/stable/auto_examples/cluster/plot_face_ward_segmentation.html#sphx-glr-auto-examples-cluster-plot-face-ward-segmentation-py\n"
   ]
  }
 ],
 "metadata": {
  "kernelspec": {
   "display_name": "Python 3",
   "language": "python",
   "name": "python3"
  },
  "language_info": {
   "codemirror_mode": {
    "name": "ipython",
    "version": 3
   },
   "file_extension": ".py",
   "mimetype": "text/x-python",
   "name": "python",
   "nbconvert_exporter": "python",
   "pygments_lexer": "ipython3",
   "version": "3.4.2"
  }
 },
 "nbformat": 4,
 "nbformat_minor": 2
}
